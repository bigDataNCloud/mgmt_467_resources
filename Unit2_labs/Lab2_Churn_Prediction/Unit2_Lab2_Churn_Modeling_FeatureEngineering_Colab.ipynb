{
 "cells": [
  {
   "cell_type": "markdown",
   "id": "5869f3af",
   "metadata": {},
   "source": [
    "# 📊 MGMT 467 - Unit 2 Lab 2: Churn Modeling with BigQueryML + Feature Engineering\n",
    "**Date:** 2025-10-16\n",
    "\n",
    "In this lab you will:\n",
    "- Connect to BigQuery from Colab\n",
    "- Create features and labels\n",
    "- Engineer new features from user behavior\n",
    "- Train and evaluate logistic regression models\n",
    "- Reflect on modeling assumptions and interpret results"
   ]
  },
  {
   "cell_type": "code",
   "execution_count": null,
   "id": "305da483",
   "metadata": {},
   "outputs": [],
   "source": [
    "# ✅ Authenticate and set up GCP project\n",
    "from google.colab import auth\n",
    "auth.authenticate_user()\n",
    "\n",
    "project_id = \"your-project-id\"  # <-- Replace with your actual project ID\n",
    "!gcloud config set project $project_id"
   ]
  },
  {
   "cell_type": "code",
   "execution_count": null,
   "id": "08a79119",
   "metadata": {},
   "outputs": [],
   "source": [
    "# ✅ Verify BigQuery access\n",
    "%%bigquery --project $project_id\n",
    "SELECT CURRENT_DATE() AS today, SESSION_USER() AS user"
   ]
  },
  {
   "cell_type": "code",
   "execution_count": null,
   "id": "4ef5701f",
   "metadata": {},
   "outputs": [],
   "source": [
    "# ✅ Prepare base churn features\n",
    "%%bigquery --project $project_id\n",
    "CREATE OR REPLACE TABLE `your_dataset.churn_features` AS\n",
    "SELECT \n",
    "  user_id,\n",
    "  region,\n",
    "  plan_tier,\n",
    "  age_band,\n",
    "  avg_rating,\n",
    "  total_minutes,\n",
    "  avg_progress,\n",
    "  num_sessions,\n",
    "  churn_label\n",
    "FROM `your_dataset.cleaned_features`\n",
    "WHERE churn_label IS NOT NULL;"
   ]
  },
  {
   "cell_type": "code",
   "execution_count": null,
   "id": "a3ce2cc5",
   "metadata": {},
   "outputs": [],
   "source": [
    "# ✅ Train base logistic regression model\n",
    "%%bigquery --project $project_id\n",
    "CREATE OR REPLACE MODEL `your_dataset.churn_model`\n",
    "OPTIONS(model_type='logistic_reg') AS\n",
    "SELECT \n",
    "  region,\n",
    "  plan_tier,\n",
    "  age_band,\n",
    "  avg_rating,\n",
    "  total_minutes,\n",
    "  avg_progress,\n",
    "  num_sessions,\n",
    "  churn_label\n",
    "FROM `your_dataset.churn_features`;"
   ]
  },
  {
   "cell_type": "code",
   "execution_count": null,
   "id": "69fc3475",
   "metadata": {},
   "outputs": [],
   "source": [
    "# ✅ Evaluate base model\n",
    "%%bigquery --project $project_id\n",
    "SELECT *\n",
    "FROM ML.EVALUATE(MODEL `your_dataset.churn_model`);"
   ]
  },
  {
   "cell_type": "code",
   "execution_count": null,
   "id": "ddceee25",
   "metadata": {},
   "outputs": [],
   "source": [
    "# ✅ Predict churn with base model\n",
    "%%bigquery --project $project_id\n",
    "SELECT \n",
    "  user_id, \n",
    "  predicted_churn_label, \n",
    "  predicted_churn_label_probs\n",
    "FROM ML.PREDICT(MODEL `your_dataset.churn_model`,\n",
    "                (SELECT * FROM `your_dataset.churn_features`));"
   ]
  },
  {
   "cell_type": "markdown",
   "id": "3718b255",
   "metadata": {},
   "source": [
    "\n",
    "## 🛠️ Feature Engineering Section\n",
    "\n",
    "We will now engineer new features to improve model performance:\n",
    "\n",
    "- Bucket continuous variables\n",
    "- Create interaction terms\n",
    "- Add behavioral flags\n"
   ]
  },
  {
   "cell_type": "code",
   "execution_count": null,
   "id": "272f675d",
   "metadata": {},
   "outputs": [],
   "source": [
    "\n",
    "# ✅ Create enhanced feature set\n",
    "%%bigquery --project $project_id\n",
    "CREATE OR REPLACE TABLE `your_dataset.churn_features_enhanced` AS\n",
    "SELECT \n",
    "  user_id,\n",
    "  region,\n",
    "  plan_tier,\n",
    "  age_band,\n",
    "  avg_rating,\n",
    "  total_minutes,\n",
    "  CASE\n",
    "    WHEN total_minutes < 100 THEN 'low'\n",
    "    WHEN total_minutes BETWEEN 100 AND 300 THEN 'medium'\n",
    "    ELSE 'high'\n",
    "  END AS watch_time_bucket,\n",
    "  avg_progress,\n",
    "  num_sessions,\n",
    "  CONCAT(plan_tier, '_', region) AS plan_region_combo,\n",
    "  IF(total_minutes > 500, 1, 0) AS flag_binge,\n",
    "  churn_label\n",
    "FROM `your_dataset.churn_features`;\n"
   ]
  },
  {
   "cell_type": "code",
   "execution_count": null,
   "id": "07d70fe5",
   "metadata": {},
   "outputs": [],
   "source": [
    "\n",
    "# ✅ Train enhanced model\n",
    "%%bigquery --project $project_id\n",
    "CREATE OR REPLACE MODEL `your_dataset.churn_model_enhanced`\n",
    "OPTIONS(model_type='logistic_reg') AS\n",
    "SELECT \n",
    "  region,\n",
    "  plan_tier,\n",
    "  age_band,\n",
    "  watch_time_bucket,\n",
    "  avg_rating,\n",
    "  avg_progress,\n",
    "  num_sessions,\n",
    "  plan_region_combo,\n",
    "  flag_binge,\n",
    "  churn_label\n",
    "FROM `your_dataset.churn_features_enhanced`;\n"
   ]
  },
  {
   "cell_type": "code",
   "execution_count": null,
   "id": "423b6d00",
   "metadata": {},
   "outputs": [],
   "source": [
    "\n",
    "# ✅ Evaluate enhanced model\n",
    "%%bigquery --project $project_id\n",
    "SELECT *\n",
    "FROM ML.EVALUATE(MODEL `your_dataset.churn_model_enhanced`);\n"
   ]
  },
  {
   "cell_type": "markdown",
   "id": "bc1a207f",
   "metadata": {},
   "source": [
    "\n",
    "## 🤔 Chain-of-Thought Prompts: Feature Engineering\n",
    "\n",
    "### 1. Why bucket continuous values like watch time?\n",
    "- What patterns become clearer by using categories like \"low\", \"medium\", \"high\"?\n",
    "\n",
    "### 2. What value do interaction terms (e.g., `plan_tier_region`) add?\n",
    "- Could some plans behave differently in different regions?\n",
    "\n",
    "### 3. What’s the purpose of binary flags like `flag_binge`?\n",
    "- Can these capture unique behaviors not reflected in raw totals?\n",
    "\n",
    "### 4. After evaluating the enhanced model:\n",
    "- Which new features helped the most?\n",
    "- Did any surprise you?\n",
    "\n",
    "✍️ Write your responses in a text cell below or in a shared doc for discussion.\n"
   ]
  }
 ],
 "metadata": {},
 "nbformat": 4,
 "nbformat_minor": 5
}
