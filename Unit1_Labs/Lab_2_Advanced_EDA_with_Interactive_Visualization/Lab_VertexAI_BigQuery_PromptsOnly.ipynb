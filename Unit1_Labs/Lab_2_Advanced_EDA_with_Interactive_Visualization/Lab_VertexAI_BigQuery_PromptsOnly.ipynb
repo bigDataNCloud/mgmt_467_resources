{
 "cells": [
  {
   "cell_type": "markdown",
   "id": "4ecd5d16",
   "metadata": {},
   "source": [
    "# Lab: Vertex AI–Assisted BigQuery Analytics — Example Prompts \n",
    "**Goal:** Practice moving from simple SQL to complex analytics in BigQuery using *only* carefully engineered prompts with Vertex AI (Gemini).  \n",
    "**Important:** This notebook contains **prompts only** (no starter code). Paste the prompts into **Vertex AI Studio**, **Vertex AI in Colab Enterprise**, or your chosen chat interface, and then run the generated SQL directly in **BigQuery**. If you decide to automate later, you can ask Vertex AI to convert the winning SQL into a Colab pipeline."
   ]
  },
  {
   "cell_type": "markdown",
   "id": "b8a8d5cd",
   "metadata": {},
   "source": [
    "## How to use this prompts-only notebook\n",
    "1. Open **Vertex AI Studio** (or Gemini in Colab Enterprise chat panel).  \n",
    "2. Copy a prompt from this notebook and paste it into the model. Do **not** paste any code from here; let the model generate it.  \n",
    "3. Run the generated SQL in **BigQuery** (Console → BigQuery Studio).  \n",
    "4. Iterate: refine the prompt when results aren’t what you expect.  \n",
    "5. Document: capture your final SQL, plus a one-sentence takeaway, in your notes/README."
   ]
  },
  {
   "cell_type": "markdown",
   "id": "e967d4a7",
   "metadata": {},
   "source": [
    "## Dataset assumptions\n",
    "Use one of these sources (adjust table paths accordingly):\n",
    "- **Global Superstore (Kaggle)** loaded into BigQuery (e.g., `[YOUR_PROJECT].superstore_data.sales`)  \n",
    "- **TheLook eCommerce** public dataset: `bigquery-public-data.thelook_ecommerce`  \n",
    "If you are using *Global Superstore*, make sure column names match your schema (e.g., `Order_Date`, `Region`, `Category`, `Sub_Category`, `Sales`, `Profit`, `Discount`, `State`, `Customer_ID`, `Ship_Mode`)."
   ]
  },
  {
   "cell_type": "markdown",
   "id": "f5940720",
   "metadata": {},
   "source": [
    "---\n",
    "## Prompting guardrails (quick checklist)\n",
    "- **Be explicit**: table path, column names, filters, output columns, sort order, and limits.  \n",
    "- **Ask for runnable SQL**: “Return a BigQuery SQL block only.”  \n",
    "- **Control cost**: ask for `LIMIT` during exploration and remove it for the final run.  \n",
    "- **Validate**: request a brief explanation of why each clause is present and how you can sanity-check results.\n",
    "---"
   ]
  },
  {
   "cell_type": "markdown",
   "id": "21fdd1b4",
   "metadata": {},
   "source": [
    "## Part A — SQL Warm‑Up (SELECT, WHERE, ORDER BY, LIMIT, DISTINCT)\n",
    "**Aim:** Build confidence with precise, unambiguous prompts that yield clean, runnable SQL."
   ]
  },
  {
   "cell_type": "markdown",
   "id": "d51345cd",
   "metadata": {},
   "source": [
    "### A1. Unique values (DISTINCT)\n",
    "**Prompt (paste in Vertex AI):**\n",
    "```\n",
    "Act as a senior BigQuery analyst. Produce a **single runnable BigQuery SQL** (no commentary) for:\n",
    "- Task: List all unique `Sub_Category` values sold in the 'West' region.\n",
    "- Table: `[YOUR_PROJECT].superstore_data.sales`\n",
    "- Filter: `Region = 'West'`\n",
    "- Output: a single column named `Sub_Category`\n",
    "- Sort: alphabetically A→Z\n",
    "- Add: `LIMIT 100` to control cost during exploration.\n",
    "```\n",
    "**Reflection:** Did the result match your expectations? If not, what ambiguity in your prompt might have caused the mismatch?"
   ]
  },
  {
   "cell_type": "markdown",
   "id": "d6d69d23",
   "metadata": {},
   "source": [
    "### A2. Top‑N by metric (ORDER BY … DESC)\n",
    "**Prompt:**\n",
    "```\n",
    "BigQuery SQL only. \n",
    "Task: Return the top 10 customers by total profit.\n",
    "Table: `[YOUR_PROJECT].superstore_data.sales`\n",
    "Columns used: `Customer_ID`, `Profit`\n",
    "Output columns: `Customer_ID`, `total_profit`\n",
    "Logic: SUM Profit per customer, order by `total_profit` DESC\n",
    "Add `LIMIT 10`.\n",
    "```\n",
    "**Tip:** If your schema uses different identifiers (e.g., `Customer Name`), restate column names explicitly."
   ]
  },
  {
   "cell_type": "markdown",
   "id": "f4a477d4",
   "metadata": {},
   "source": [
    "### A3. Basic filtering (WHERE) + sanity checks\n",
    "**Prompt:**\n",
    "```\n",
    "BigQuery SQL only.\n",
    "Task: Count orders shipped with each `Ship_Mode`, but only for orders in the 'Technology' category.\n",
    "Table: `[YOUR_PROJECT].superstore_data.sales`\n",
    "Output: `Ship_Mode`, `order_count`\n",
    "Logic: COUNT(*) grouped by `Ship_Mode`\n",
    "Sort by `order_count` DESC\n",
    "```\n",
    "**Validation ask:** “Also list two quick sanity checks to verify the numbers.”"
   ]
  },
  {
   "cell_type": "markdown",
   "id": "51afdc05",
   "metadata": {},
   "source": [
    "## Part B — Grouped Analytics (GROUP BY, HAVING)\n",
    "**Aim:** Turn raw facts into grouped metrics and filtered aggregations."
   ]
  },
  {
   "cell_type": "markdown",
   "id": "10c5933e",
   "metadata": {},
   "source": [
    "### B1. KPI aggregation with WHERE + GROUP BY\n",
    "**Prompt:**\n",
    "```\n",
    "BigQuery SQL only.\n",
    "Task: Compute monthly revenue for the last 12 full months.\n",
    "Table: `[YOUR_PROJECT].superstore_data.sales`\n",
    "Assume: `Order_Date` is a DATE or TIMESTAMP column named exactly `Order_Date`.\n",
    "Output: `year_month` (YYYY-MM format), `monthly_revenue`\n",
    "Logic: Truncate date to month, SUM `Sales`, filter to last 12 full months.\n",
    "Sort by `year_month` ascending.\n",
    "Include a `LIMIT` safeguard for exploration.\n",
    "```"
   ]
  },
  {
   "cell_type": "markdown",
   "id": "15d75d03",
   "metadata": {},
   "source": [
    "### B2. Post‑aggregation filter (HAVING)\n",
    "**Prompt:**\n",
    "```\n",
    "BigQuery SQL only.\n",
    "Task: Find sub-categories whose total profit over the entire dataset is negative.\n",
    "Table: `[YOUR_PROJECT].superstore_data.sales`\n",
    "Output: `Sub_Category`, `total_profit`\n",
    "Logic: SUM `Profit` GROUP BY `Sub_Category`, HAVING SUM(Profit) < 0\n",
    "Sort by `total_profit` ASC (most negative first).\n",
    "```\n",
    "**Why HAVING?** Ask the model to include a 1-sentence explanation of why HAVING is used instead of WHERE here."
   ]
  },
  {
   "cell_type": "markdown",
   "id": "bbd28071",
   "metadata": {},
   "source": [
    "## Part C — Joins (dimension enrichment)\n",
    "**Aim:** Use joins to enhance facts with attributes."
   ]
  },
  {
   "cell_type": "markdown",
   "id": "e7736534",
   "metadata": {},
   "source": [
    "### C1. Join facts to a small dimension\n",
    "*(If you have a customer or product dimension in your schema, use it. Otherwise, request a synthetic example.)*  \n",
    "**Prompt:**\n",
    "```\n",
    "BigQuery SQL only.\n",
    "Task: Join the sales table to a product dimension to report `Product_ID`, `Product_Name`, and total sales.\n",
    "Tables: `[YOUR_PROJECT].superstore_data.sales` as s, `[YOUR_PROJECT].superstore_data.products` as p\n",
    "Join key: `s.Product_ID = p.Product_ID`\n",
    "Output: `Product_ID`, `Product_Name`, `total_sales`\n",
    "Sort by `total_sales` DESC\n",
    "```\n",
    "**If you lack a dimension table:** Ask the model how to simulate one temporarily via a CTE."
   ]
  },
  {
   "cell_type": "markdown",
   "id": "dca07c5a",
   "metadata": {},
   "source": [
    "## Part D — Common Table Expressions (CTEs)\n",
    "**Aim:** Make complex logic readable and testable in steps."
   ]
  },
  {
   "cell_type": "markdown",
   "id": "b268567f",
   "metadata": {},
   "source": [
    "### D1. Multi‑step ranking with CTEs\n",
    "**Prompt:**\n",
    "```\n",
    "BigQuery SQL only.\n",
    "Goal: Within each `Region`, rank states by total sales and return top 3 per region.\n",
    "Table: `[YOUR_PROJECT].superstore_data.sales`\n",
    "CTE 1 (`state_sales`): SUM(Sales) by `Region`, `State`\n",
    "CTE 2 (`ranked_state_sales`): Add `RANK() OVER (PARTITION BY Region ORDER BY total_sales DESC)` as `sales_rank`\n",
    "Final SELECT: rows where `sales_rank <= 3`\n",
    "Output columns: `Region`, `State`, `total_sales`, `sales_rank`\n",
    "Sort: by `Region`, then `sales_rank`\n",
    "```\n",
    "**Ask for**: a one-paragraph explanation of each step, then **provide only the final runnable SQL**."
   ]
  },
  {
   "cell_type": "markdown",
   "id": "46a39db5",
   "metadata": {},
   "source": [
    "### D2. Time‑boxed “most improved” analysis\n",
    "**Prompt:**\n",
    "```\n",
    "BigQuery SQL only.\n",
    "Goal: Identify the top 5 sub-categories with the largest YoY revenue increase from 2023 to 2024.\n",
    "Table: `[YOUR_PROJECT].superstore_data.sales`\n",
    "CTE `yr_sales`: SUM(Sales) by `Sub_Category` and `year` extracted from `Order_Date`\n",
    "Final: pivot or self-join to compute delta (2024 minus 2023) as `yoy_delta`\n",
    "Output: `Sub_Category`, `sales_2023`, `sales_2024`, `yoy_delta`\n",
    "Order by `yoy_delta` DESC\n",
    "Limit 5\n",
    "```\n",
    "**Validation:** Ask the model for two quick failure modes (e.g., missing years) and how to handle them."
   ]
  },
  {
   "cell_type": "markdown",
   "id": "c776dd89",
   "metadata": {},
   "source": [
    "## Part E — Window Functions (ROW_NUMBER, RANK, DENSE_RANK, LAG/LEAD, moving averages)\n",
    "**Aim:** Compare rows across partitions and time; compute trends and ranks without collapsing rows."
   ]
  },
  {
   "cell_type": "markdown",
   "id": "6a5cf0c4",
   "metadata": {},
   "source": [
    "### E1. Top product per region (ROW_NUMBER)\n",
    "**Prompt:**\n",
    "```\n",
    "BigQuery SQL only.\n",
    "Task: For each `Region`, return only the single highest-revenue `Sub_Category`.\n",
    "Table: `[YOUR_PROJECT].superstore_data.sales`\n",
    "CTE `subcat_sales`: SUM(Sales) by `Region`, `Sub_Category`\n",
    "Add `ROW_NUMBER() OVER (PARTITION BY Region ORDER BY total_sales DESC)` as rn\n",
    "Final: filter `rn = 1`\n",
    "Output: `Region`, `Sub_Category`, `total_sales`\n",
    "Sort by `Region`\n",
    "```\n",
    "**Why `ROW_NUMBER` instead of `RANK`?** Ask the model to add a 2-sentence contrast."
   ]
  },
  {
   "cell_type": "markdown",
   "id": "552eb898",
   "metadata": {},
   "source": [
    "### E2. YoY growth with LAG\n",
    "**Prompt:**\n",
    "```\n",
    "BigQuery SQL only.\n",
    "Task: Compute year-over-year revenue growth for 'Phones' sub-category.\n",
    "Table: `[YOUR_PROJECT].superstore_data.sales`\n",
    "Steps:\n",
    "- Filter to `Sub_Category = 'Phones'`\n",
    "- Aggregate yearly revenue using EXTRACT(YEAR FROM Order_Date)\n",
    "- Add `LAG(yearly_revenue) OVER (ORDER BY year)` as `prev_revenue`\n",
    "- Compute `yoy_pct = 100.0 * (yearly_revenue - prev_revenue) / prev_revenue`\n",
    "Output: `year`, `yearly_revenue`, `prev_revenue`, `yoy_pct`\n",
    "Sort by `year` ASC\n",
    "```\n",
    "**Ask for**: a guard against divide-by-zero or NULL previous year."
   ]
  },
  {
   "cell_type": "markdown",
   "id": "ac0c3893",
   "metadata": {},
   "source": [
    "### E3. 3‑month moving average (MA)\n",
    "**Prompt:**\n",
    "```\n",
    "BigQuery SQL only.\n",
    "Task: For the 'Corporate' segment, compute a 3-month moving average of monthly revenue.\n",
    "Table: `[YOUR_PROJECT].superstore_data.sales`\n",
    "Steps:\n",
    "- Derive `month` via DATE_TRUNC(Order_Date, MONTH)\n",
    "- SUM(Sales) per `month`\n",
    "- Add `AVG(monthly_revenue) OVER (ORDER BY month ROWS BETWEEN 2 PRECEDING AND CURRENT ROW)` as `ma_3`\n",
    "Output: `month`, `monthly_revenue`, `ma_3`\n",
    "Sort by `month` ASC\n",
    "```\n",
    "**Tip:** Ask the model to include a 1‑line cost control note (e.g., restrict date range while iterating)."
   ]
  },
  {
   "cell_type": "markdown",
   "id": "a4e347a6",
   "metadata": {},
   "source": [
    "## Part F — Debugging & Optimization Prompts\n",
    "**Aim:** Use the model as a rubber duck for error handling and performance."
   ]
  },
  {
   "cell_type": "markdown",
   "id": "e5d80923",
   "metadata": {},
   "source": [
    "### F1. Explain the error, propose a fix\n",
    "**Prompt:**\n",
    "```\n",
    "I ran this BigQuery SQL and got an error: \n",
    "[PASTE ERROR MESSAGE and the exact SQL here]\n",
    "Act as a BigQuery trouble‑shooter. \n",
    "1) Identify the root cause.\n",
    "2) Propose the smallest possible fix.\n",
    "3) Suggest a quick sanity check query to verify the fix.\n",
    "Return only the corrected SQL and a 2‑sentence rationale.\n",
    "```"
   ]
  },
  {
   "cell_type": "markdown",
   "id": "890814f8",
   "metadata": {},
   "source": [
    "### F2. Reduce cost / improve speed\n",
    "**Prompt:**\n",
    "```\n",
    "Act as a BigQuery cost optimizer.\n",
    "Given this query (below), list 3 ways to reduce scanned bytes and improve performance without changing the business logic.\n",
    "[PASTE YOUR SQL HERE]\n",
    "Prioritize: partition filters, column pruning, pre-aggregations, and temporary results via CTEs.\n",
    "```"
   ]
  },
  {
   "cell_type": "markdown",
   "id": "1f88a2f5",
   "metadata": {},
   "source": [
    "## Part G — Validation & Counter‑examples (DIVE: Validate)\n",
    "**Aim:** Avoid “first‑answer fallacy” by testing alternatives."
   ]
  },
  {
   "cell_type": "markdown",
   "id": "2ed05c0b",
   "metadata": {},
   "source": [
    "### G1. Ask for counter‑queries\n",
    "**Prompt:**\n",
    "```\n",
    "I concluded that 'Tables' is a high‑sales but negative‑profit sub-category due to high discounts.\n",
    "Create two alternative BigQuery SQL queries that could falsify or nuance this finding:\n",
    "- One that slices by region and time\n",
    "- One that controls for order priority or ship mode\n",
    "Return BigQuery SQL only, then a one-paragraph note on how to compare outcomes.\n",
    "```"
   ]
  },
  {
   "cell_type": "markdown",
   "id": "1e108a43",
   "metadata": {},
   "source": [
    "## Part H — Synthesis (DIVE: Extend)\n",
    "**Aim:** Turn analysis into business‑ready insights."
   ]
  },
  {
   "cell_type": "markdown",
   "id": "0bf2bac2",
   "metadata": {},
   "source": [
    "### H1. Executive‑style summary\n",
    "**Prompt:**\n",
    "```\n",
    "Act as a business strategist.\n",
    "Based on the following metrics/figures (briefly summarize your results here), write a 4-sentence executive summary:\n",
    "- 1 sentence: what changed and by how much\n",
    "- 1 sentence: why it likely changed (drivers)\n",
    "- 1 sentence: recommended action (who/what/when)\n",
    "- 1 sentence: metric to monitor next\n",
    "```"
   ]
  },
  {
   "cell_type": "markdown",
   "id": "f3b5fdc9",
   "metadata": {},
   "source": [
    "### H2. Convert final SQL into an automated job (optional)\n",
    "**Prompt (use only after your SQL is final):**\n",
    "```\n",
    "Convert my final BigQuery SQL into a Python script that can run as a scheduled job from Colab or Cloud Functions.\n",
    "Requirements:\n",
    "- Use python‑bigquery client\n",
    "- Parameterize date range\n",
    "- Write results to a destination table `[YOUR_PROJECT].analytics.outputs_kpi`\n",
    "- Add basic error handling & logging\n",
    "Return one complete runnable script.\n",
    "```"
   ]
  },
  {
   "cell_type": "markdown",
   "id": "0148a198",
   "metadata": {},
   "source": [
    "---\n",
    "## Submission checklist\n",
    "- [ ] Kept prompts precise and reproducible  \n",
    "- [ ] Captured at least **one** CTE query and **one** window function query  \n",
    "- [ ] Documented **two** validation attempts (counter‑queries or alternate slice)  \n",
    "- [ ] Wrote a 4‑sentence executive summary based on results  \n",
    "- [ ] (Optional) Converted final query into a scheduled job\n",
    "---"
   ]
  }
 ],
 "metadata": {
  "language_info": {
   "name": "python"
  }
 },
 "nbformat": 4,
 "nbformat_minor": 5
}
