{
 "cells": [
  {
   "cell_type": "markdown",
   "id": "0d2aeb22",
   "metadata": {},
   "source": [
    "# **Lab 1: AI‑Assisted SQL Foundations (Colab)**\n",
    "**Course:** MGMT 467 — AI‑Assisted Big Data Analytics in the Cloud  \n",
    "**When:** Unit 1 · Week 3 (Thursday)  \n",
    "**Goal:** Use *Gemini as a co‑pilot* to write and understand basic SQL against the **Superstore** dataset in **BigQuery**.  \n",
    "**You will practice:** Prompt engineering → SQL generation → Query execution → Interpretation.\n",
    "\n",
    "> ✅ **Deliverable (submit link in Brightspace):** A completed `Lab1_AI_Assisted_SQL.ipynb` with prompts, code, outputs.\n"
   ]
  },
  {
   "cell_type": "markdown",
   "id": "e24bbc6d",
   "metadata": {},
   "source": [
    "## ✅ What you need before starting\n",
    "- A Google account with access to **Google Colab**.\n",
    "- A **Google Cloud Project** with **BigQuery** API enabled.\n",
    "- A dataset named `superstore_data` and a table named `sales` (your instructor or TA will provide details).\n",
    "- (Optional) A GitHub repo to store your work for your team.\n"
   ]
  },
  {
   "cell_type": "markdown",
   "id": "95797bde",
   "metadata": {},
   "source": [
    "## 0) Connect to class GitHub repo\n",
    "## Install and import libraries\n",
    "## Class Repo: bigDataNCloud/mgmt_467_resources"
   ]
  },
  {
   "cell_type": "code",
   "execution_count": null,
   "id": "5418aeca",
   "metadata": {},
   "outputs": [],
   "source": [
    "# Replace with your actual class repo URL\n",
    "CLASS_REPO_URL = \"https://github.com/YOUR-ORG-OR-USERNAME/class-repo.git\"\n",
    "CLASS_REPO_DIR = \"/content/class-repo\"\n",
    "\n",
    "# If already cloned, skip re-downloading\n",
    "import os\n",
    "if not os.path.exists(CLASS_REPO_DIR):\n",
    "    !git clone {CLASS_REPO_URL} {CLASS_REPO_DIR}\n",
    "else:\n",
    "    %cd {CLASS_REPO_DIR}\n",
    "    !git pull\n",
    "\n",
    "# Move into repo folder\n",
    "%cd {CLASS_REPO_DIR}\n",
    "\n",
    "print(\"✅ Class repository ready at\", CLASS_REPO_DIR)"
   ]
  },
  {
   "cell_type": "code",
   "execution_count": null,
   "id": "129167ba",
   "metadata": {},
   "outputs": [],
   "source": [
    "!pip -q install google-cloud-bigquery google-cloud-bigquery-storage db-dtypes pandas pyarrow kagglehub"
   ]
  },
  {
   "cell_type": "code",
   "execution_count": null,
   "id": "6163ed1f",
   "metadata": {},
   "outputs": [],
   "source": [
    "from google.cloud import bigquery\n",
    "from google.colab import auth\n",
    "import pandas as pd\n",
    "import os, json, textwrap, pathlib, pprint\n",
    "print(\"Libraries imported.\")"
   ]
  },
  {
   "cell_type": "markdown",
   "id": "915b677f",
   "metadata": {},
   "source": [
    "## 1) Authenticate to GCP and set your project\n",
    "Run the cell below. When prompted, authorize Colab to access your Google Cloud resources."
   ]
  },
  {
   "cell_type": "code",
   "execution_count": null,
   "id": "79c4343d",
   "metadata": {},
   "outputs": [],
   "source": [
    "auth.authenticate_user()\n",
    "print(\"✅ Authenticated.\")\n",
    "\n",
    "# Set your GCP project (EDIT THIS!)\n",
    "PROJECT_ID = \"YOUR_PROJECT_ID_HERE\"   # <-- EDIT ME\n",
    "assert PROJECT_ID != \"YOUR_PROJECT_ID_HERE\", \"Please set PROJECT_ID to your GCP project id.\"\n",
    "os.environ[\"GOOGLE_CLOUD_PROJECT\"] = PROJECT_ID\n",
    "\n",
    "# BigQuery client\n",
    "bq = bigquery.Client(project=PROJECT_ID)\n",
    "print(\"✅ BigQuery client created for:\", PROJECT_ID)"
   ]
  },
  {
   "cell_type": "markdown",
   "id": "b61d6e3b",
   "metadata": {},
   "source": [
    "### Quick connection test (optional)\n",
    "This will try to read the first 5 rows from your Superstore table. If it fails, double‑check your dataset/table name."
   ]
  },
  {
   "cell_type": "code",
   "execution_count": null,
   "id": "1a97c9ec",
   "metadata": {},
   "outputs": [],
   "source": [
    "DATASET = \"superstore_data\"\n",
    "TABLE   = \"sales\"\n",
    "BQ_TABLE = f\"`{PROJECT_ID}.{DATASET}.{TABLE}`\"\n",
    "\n",
    "query = f\"SELECT * FROM {BQ_TABLE} LIMIT 5\"\n",
    "try:\n",
    "    df_preview = bq.query(query).to_dataframe()\n",
    "    display(df_preview)\n",
    "    print(\"✅ Connection OK.\")\n",
    "except Exception as e:\n",
    "    print(\"⚠️ Could not query the table. Error below:\")\n",
    "    print(e)"
   ]
  },
  {
   "cell_type": "markdown",
   "id": "418fbb71",
   "metadata": {},
   "source": [
    "## 2) (Optional) Download a dataset with **KaggleHub**\n",
    "Use **KaggleHub** to pull sample data locally into Colab (e.g., for offline exploration or to stage for GCS).\n",
    "> This is **optional** for Lab 1 (we focus on BigQuery), but useful to practice data access workflows.\n",
    "> https://www.kaggle.com/datasets/anandaramg/global-superstore"
   ]
  },
  {
   "cell_type": "code",
   "execution_count": null,
   "id": "96f6423f",
   "metadata": {},
   "outputs": [],
   "source": [
    "import kagglehub, os, pathlib\n",
    "\n",
    "DATASET_REF = \"anandaramg/global-superstore\"   # you can change this to any public dataset reference\n",
    "\n",
    "download_path = kagglehub.dataset_download(DATASET_REF)\n",
    "print(\"Path to dataset files:\", download_path)\n",
    "\n",
    "# List files\n",
    "p = pathlib.Path(download_path)\n",
    "print(\"Files:\")\n",
    "for f in p.glob(\"**/*\"):\n",
    "    if f.is_file():\n",
    "        print(\"-\", f)\n"
   ]
  },
  {
   "cell_type": "markdown",
   "id": "4d59bc20",
   "metadata": {},
   "source": [
    "## 3) Prompting approach for Lab 1\n",
    "You'll **paste prompts into Gemini** (in a separate tab), get back **SQL**, then paste that SQL here to execute.  \n",
    "We’ll practice three core question types:\n",
    "- **“What”** (lists & filters) → `SELECT`, `WHERE`, `DISTINCT`\n",
    "- **“How many”** (counts by category) → `COUNT`, `GROUP BY`\n",
    "- **“Who is best”** (rank/limit by metric) → `SUM`, `ORDER BY`, `LIMIT`"
   ]
  },
  {
   "cell_type": "markdown",
   "id": "605ec0f3",
   "metadata": {},
   "source": [
    "### 3A) “What” Question — `SELECT`, `WHERE`, `DISTINCT`\n",
    "**Business Question:** *A manager wants a list of all **unique** product sub‑categories sold in the **West** region.*\n",
    "\n",
    "**Paste this prompt into Gemini (no edits needed except the project id if you used a different table path):**\n",
    "```\n",
    "# TASK: Generate a BigQuery SQL query.\n",
    "# CONTEXT: The table is `[YOUR_PROJECT_ID].superstore_data.sales`.\n",
    "# GOAL: Find all the unique values in the 'Sub_Category' column, but only for rows where the 'Region' column is exactly 'West'.\n",
    "```\n",
    "\n",
    "**Then paste the SQL you get into the cell below** (replace the placeholder) and run it."
   ]
  },
  {
   "cell_type": "code",
   "execution_count": null,
   "id": "289a74b8",
   "metadata": {},
   "outputs": [],
   "source": [
    "sql_str = \"\"\"\n",
    "-- PASTE the SQL from Gemini here\n",
    "SELECT DISTINCT Sub_Category\n",
    "FROM `YOUR_PROJECT_ID_HERE.superstore_data.sales`\n",
    "WHERE Region = 'West'\n",
    "ORDER BY Sub_Category\n",
    "\"\"\"\n",
    "sql_str = sql_str.replace(\"YOUR_PROJECT_ID_HERE\", PROJECT_ID)\n",
    "\n",
    "df_what = bq.query(sql_str).to_dataframe()\n",
    "print(f\"Rows: {len(df_what)}\")\n",
    "display(df_what.head(20))"
   ]
  },
  {
   "cell_type": "markdown",
   "id": "1c42d56c",
   "metadata": {},
   "source": [
    "**Explain it back (metacognition):** In Gemini, paste:  \n",
    "> *Explain the following SQL query line by line: [paste your SQL]*  \n",
    "Summarize what you learned here:\n",
    "\n",
    "> **Notes:**"
   ]
  },
  {
   "cell_type": "markdown",
   "id": "1fce688d",
   "metadata": {},
   "source": [
    "### 3B) “How many” Question — `COUNT`, `GROUP BY`\n",
    "**Business Question:** *How many orders were placed in each **Ship Mode**?*\n",
    "\n",
    "**Gemini prompt:**\n",
    "```\n",
    "# TASK: Generate a BigQuery SQL query.\n",
    "# CONTEXT: The table is `[YOUR_PROJECT_ID].superstore_data.sales`.\n",
    "# GOAL: Count the total number of records for each unique value in the 'Ship_Mode' column.\n",
    "# The final result should have two columns: 'Ship_Mode' and 'order_count'.\n",
    "```\n"
   ]
  },
  {
   "cell_type": "code",
   "execution_count": null,
   "id": "d8ca1a3a",
   "metadata": {},
   "outputs": [],
   "source": [
    "sql_str = \"\"\"\n",
    "-- PASTE the SQL from Gemini here\n",
    "SELECT Ship_Mode, COUNT(*) AS order_count\n",
    "FROM `YOUR_PROJECT_ID_HERE.superstore_data.sales`\n",
    "GROUP BY Ship_Mode\n",
    "ORDER BY order_count DESC\n",
    "\"\"\"\n",
    "sql_str = sql_str.replace(\"YOUR_PROJECT_ID_HERE\", PROJECT_ID)\n",
    "\n",
    "df_howmany = bq.query(sql_str).to_dataframe()\n",
    "display(df_howmany)"
   ]
  },
  {
   "cell_type": "markdown",
   "id": "aefe27ea",
   "metadata": {},
   "source": [
    "### 3C) “Who is best” Question — `SUM`, `ORDER BY`, `LIMIT`\n",
    "**Business Question:** *Identify the **top 5 most profitable customers**.*\n",
    "\n",
    "**Gemini prompt:**\n",
    "```\n",
    "# TASK: Generate a BigQuery SQL query.\n",
    "# CONTEXT: The table is `[YOUR_PROJECT_ID].superstore_data.sales`. The customer identifier is 'Customer_ID'.\n",
    "# GOAL: Calculate the sum of 'Profit' for each customer. The final output should show the 'Customer_ID' and their total profit, sorted from highest to lowest profit, and limited to only the top 5 results.\n",
    "```\n"
   ]
  },
  {
   "cell_type": "code",
   "execution_count": null,
   "id": "f94560c4",
   "metadata": {},
   "outputs": [],
   "source": [
    "sql_str = \"\"\"\n",
    "-- PASTE the SQL from Gemini here\n",
    "SELECT Customer_ID, SUM(Profit) AS total_profit\n",
    "FROM `YOUR_PROJECT_ID_HERE.superstore_data.sales`\n",
    "GROUP BY Customer_ID\n",
    "ORDER BY total_profit DESC\n",
    "LIMIT 5\n",
    "\"\"\"\n",
    "sql_str = sql_str.replace(\"YOUR_PROJECT_ID_HERE\", PROJECT_ID)\n",
    "\n",
    "df_best = bq.query(sql_str).to_dataframe()\n",
    "display(df_best)"
   ]
  },
  {
   "cell_type": "markdown",
   "id": "5dfde3c4",
   "metadata": {},
   "source": [
    "## 4) Challenge prompts (author your own)\n",
    "Write **your own precise prompt** in a text cell (or comment) for each question below, then get SQL from Gemini and run it in the provided code cells.\n",
    "\n",
    "**Challenge 1:** *What is the **average discount** for products in the **Technology** category sold in the **East** region?*  \n",
    "**Challenge 2:** *How many **unique customers** has each **Segment** (Consumer/Corporate/Home Office) served?*"
   ]
  },
  {
   "cell_type": "code",
   "execution_count": null,
   "id": "589de21a",
   "metadata": {},
   "outputs": [],
   "source": [
    "sql_str = \"\"\"\n",
    "-- PASTE your Gemini-generated SQL here\n",
    "SELECT AVG(Discount) AS avg_discount\n",
    "FROM `YOUR_PROJECT_ID_HERE.superstore_data.sales`\n",
    "WHERE Category = 'Technology' AND Region = 'East'\n",
    "\"\"\"\n",
    "sql_str = sql_str.replace(\"YOUR_PROJECT_ID_HERE\", PROJECT_ID)\n",
    "df_ch1 = bq.query(sql_str).to_dataframe()\n",
    "display(df_ch1)"
   ]
  },
  {
   "cell_type": "code",
   "execution_count": null,
   "id": "0238d1fe",
   "metadata": {},
   "outputs": [],
   "source": [
    "sql_str = \"\"\"\n",
    "-- PASTE your Gemini-generated SQL here\n",
    "SELECT Segment, COUNT(DISTINCT Customer_ID) AS unique_customers\n",
    "FROM `YOUR_PROJECT_ID_HERE.superstore_data.sales`\n",
    "GROUP BY Segment\n",
    "ORDER BY unique_customers DESC\n",
    "\"\"\"\n",
    "sql_str = sql_str.replace(\"YOUR_PROJECT_ID_HERE\", PROJECT_ID)\n",
    "df_ch2 = bq.query(sql_str).to_dataframe()\n",
    "display(df_ch2)"
   ]
  },
  {
   "cell_type": "markdown",
   "id": "564d3d70",
   "metadata": {},
   "source": [
    "## 5) Reflection (DIVE mindset)\n",
    "- **Discover:** What did you find first?  \n",
    "- **Investigate:** What alternate query or filter changed the story?  \n",
    "- **Validate:** Where could the AI‑generated SQL be wrong or incomplete? How did you check?  \n",
    "- **Extend:** Which stakeholder could use your results tomorrow? What action should they take?"
   ]
  },
  {
   "cell_type": "markdown",
   "id": "dbc96289",
   "metadata": {},
   "source": [
    "## 6) Save your work to GitHub (pick one of the options)\n",
    "**Option A (recommended):** In Colab, go to **File → Save a copy in GitHub…** and select your team repo + folder (e.g., `labs/Unit1/`).  \n",
    "**Option B (CLI, if you know git):**\n",
    "```bash\n",
    "# (In Colab) mount Drive, then clone/pull/push as usual with a PAT\n",
    "# Be careful to NOT store secrets in the notebook.\n",
    "```\n",
    "Name the file **`Lab1_AI_Assisted_SQL.ipynb`** and push it to your team repo."
   ]
  }
 ],
 "metadata": {
  "language_info": {
   "name": "python"
  }
 },
 "nbformat": 4,
 "nbformat_minor": 5
}
