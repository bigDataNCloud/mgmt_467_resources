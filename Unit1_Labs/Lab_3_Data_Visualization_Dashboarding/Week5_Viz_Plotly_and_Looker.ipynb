{
  "nbformat": 4,
  "nbformat_minor": 5,
  "metadata": {
    "colab": {
      "name": "Week5_Viz_Plotly_and_Looker.ipynb",
      "provenance": [],
      "toc_visible": true
    },
    "kernelspec": {
      "name": "python3",
      "display_name": "Python 3"
    },
    "language_info": {
      "name": "python",
      "version": "3.x"
    }
  },
  "cells": [
    {
      "cell_type": "markdown",
      "metadata": {
        "id": "title"
      },
      "source": [
        "# MGMT 467 \u2014 Week 5 Companion: Plotly Visuals + Looker Studio Guide\n",
        "_Generated: 2025-09-23_\n",
        "\n",
        "Plotly versions of the five visuals plus a Looker Studio checklist with calculated fields.\n"
      ]
    },
    {
      "cell_type": "code",
      "metadata": {
        "id": "setup"
      },
      "source": [
        "%%capture\n",
        "!pip install pandas numpy plotly -q\n",
        "import pandas as pd, numpy as np\n",
        "import plotly.express as px\n",
        "np.random.seed(467)\n",
        "print('\u2705 Plotly environment ready')"
      ]
    },
    {
      "cell_type": "code",
      "metadata": {
        "id": "data"
      },
      "source": [
        "try:\n",
        "    df_flights\n",
        "    print('\u2139\ufe0f Using existing df_flights')\n",
        "except NameError:\n",
        "    print('\u2699\ufe0f Creating synthetic df_flights...')\n",
        "    dates = pd.date_range('2024-01-01','2024-06-30',freq='D')\n",
        "    carriers=['AA','DL','UA','WN','AS']\n",
        "    origins=['ATL','DFW','DEN','ORD','LAX','SEA','SFO','PHX','CLT','MCO']\n",
        "    dests=['JFK','LGA','BOS','SFO','LAX','SEA','MIA','IAH','IAD','PHL']\n",
        "    rows=[]\n",
        "    for d in dates:\n",
        "      for c in carriers:\n",
        "        for _ in range(np.random.randint(80,140)):\n",
        "          o, de = np.random.choice(origins), np.random.choice(dests)\n",
        "          if o==de: continue\n",
        "          dist=np.random.randint(300,2800); seats=np.random.choice([90,120,150,180,210])\n",
        "          lf=float(np.clip(np.random.normal(0.82,0.07),0.55,0.98)); pax=int(seats*lf)\n",
        "          dep=int(np.random.normal(8,15)); arr=dep+int(np.random.normal(0,12))\n",
        "          dep=max(dep,-5); arr=max(arr,-10)\n",
        "          cancelled=np.random.rand()<0.025; diverted=np.random.rand()<0.005\n",
        "          revenue=pax*np.random.uniform(120,420); casm=np.random.uniform(0.08,0.16)\n",
        "          cost=casm*seats*dist; fuel=dist*np.random.uniform(3.0,4.5); nps=np.random.normal(35,15)\n",
        "          rows.append(dict(date=d,carrier=c,origin=o,dest=de,distance_miles=dist,seats=seats,passengers=pax,\n",
        "                           dep_delay_min=dep,arr_delay_min=arr,cancelled=int(cancelled),diverted=int(diverted),\n",
        "                           revenue_usd=round(revenue,2),cost_usd=round(cost,2),fuel_burn_gal=round(fuel,1),nps=round(nps,1)))\n",
        "    df_flights=pd.DataFrame(rows)\n",
        "    df_flights['on_time']=(df_flights['arr_delay_min']<=15).astype(int)\n",
        "    df_flights['load_factor']=(df_flights['passengers']/df_flights['seats']).round(3)\n",
        "    df_flights['asm']=df_flights['seats']*df_flights['distance_miles']\n",
        "    df_flights['casm']=(df_flights['cost_usd']/df_flights['asm']).round(4)\n",
        "    df_flights['month']=pd.to_datetime(df_flights['date']).dt.to_period('M').astype(str)\n",
        "    df_flights['route']=df_flights['origin']+'-'+df_flights['dest']\n",
        "    print('\u2705 df_flights created:', df_flights.shape)"
      ]
    },
    {
      "cell_type": "markdown",
      "metadata": {
        "id": "plots"
      },
      "source": [
        "## Plotly Visualizations"
      ]
    },
    {
      "cell_type": "code",
      "metadata": {
        "id": "bar"
      },
      "source": [
        "rate=(df_flights.groupby('carrier',as_index=False)['on_time'].mean()\n",
        "       .rename(columns={'on_time':'on_time_rate'}).sort_values('on_time_rate',ascending=False))\n",
        "fig=px.bar(rate,x='carrier',y='on_time_rate',text='on_time_rate',labels={'on_time_rate':'On-Time Rate'},title='On-Time Rate by Carrier')\n",
        "fig.update_traces(texttemplate='%{text:.1%}',textposition='outside'); fig.update_layout(yaxis_tickformat='.0%'); fig.show()"
      ]
    },
    {
      "cell_type": "code",
      "metadata": {
        "id": "line"
      },
      "source": [
        "daily=(df_flights.groupby('date',as_index=False)['arr_delay_min'].mean()\n",
        "       .rename(columns={'arr_delay_min':'avg_arr_delay'}))\n",
        "daily['roll7']=daily['avg_arr_delay'].rolling(7,min_periods=1).mean()\n",
        "fig=px.line(daily,x='date',y=['avg_arr_delay','roll7'],labels={'value':'Minutes','variable':'Series'},title='Average Arrival Delay (Daily) + 7d Rolling')\n",
        "fig.show()"
      ]
    },
    {
      "cell_type": "code",
      "metadata": {
        "id": "hist"
      },
      "source": [
        "fig=px.histogram(df_flights,x='arr_delay_min',nbins=60,title='Arrival Delay Distribution')\n",
        "fig.add_vline(x=0,line_dash='dash'); fig.show()"
      ]
    },
    {
      "cell_type": "code",
      "metadata": {
        "id": "hbar"
      },
      "source": [
        "top=(df_flights.groupby('route',as_index=False)['load_factor'].mean().sort_values('load_factor',ascending=False).head(15))\n",
        "fig=px.bar(top,y='route',x='load_factor',orientation='h',labels={'load_factor':'Avg Load Factor','route':'Route'},title='Top 15 Routes by Avg Load Factor')\n",
        "fig.update_layout(xaxis_tickformat='.0%'); fig.show()"
      ]
    },
    {
      "cell_type": "code",
      "metadata": {
        "id": "scatter"
      },
      "source": [
        "fig=px.scatter(df_flights.sample(5000,random_state=1),x='cost_usd',y='revenue_usd',color='casm',size='passengers',hover_data=['carrier','route','distance_miles'],labels={'casm':'CASM (USD/ASM)'},title='Cost vs Revenue (color=CASM, size=passengers)')\n",
        "fig.add_shape(type='line',x0=0,y0=0,x1=float(df_flights['cost_usd'].max()),y1=float(df_flights['cost_usd'].max()),line=dict(dash='dash'))\n",
        "fig.update_layout(xaxis_title='Cost (USD)',yaxis_title='Revenue (USD)'); fig.show()"
      ]
    },
    {
      "cell_type": "markdown",
      "metadata": {
        "id": "export"
      },
      "source": [
        "## Export CSV for Looker Studio\n",
        "`airline_kpis_synthetic.csv` will be created in the runtime for upload or BigQuery load."
      ]
    },
    {
      "cell_type": "code",
      "metadata": {
        "id": "savecsv"
      },
      "source": [
        "df_flights.to_csv('airline_kpis_synthetic.csv', index=False)\n",
        "print('\ud83d\udcc1 Saved airline_kpis_synthetic.csv')"
      ]
    },
    {
      "cell_type": "markdown",
      "metadata": {
        "id": "looker"
      },
      "source": [
        "## Looker Studio Checklist\n",
        "### Calculated Fields\n",
        "- **On-Time Rate (%):** `100 * SUM(on_time) / COUNT(on_time)`\n",
        "- **Load Factor:** `passengers / seats`\n",
        "- **ASM:** `seats * distance_miles`\n",
        "- **CASM:** `cost_usd / (seats * distance_miles)`\n",
        "- **Yield:** `revenue_usd / (passengers * distance_miles)`\n",
        "- **Route:** `CONCAT(origin,'-',dest)`\n",
        "- **Profit Margin (opt):** `(revenue_usd - cost_usd) / NULLIF(revenue_usd,0)`\n",
        "\n",
        "### Charts\n",
        "1) Bar \u2014 **On-Time Rate by carrier** (sort desc, show % labels)\n",
        "2) Time series \u2014 **Avg Arrival Delay** (daily) + trendline\n",
        "3) Histogram \u2014 **Arrival delay distribution** (40\u201360 bins, ref at 0)\n",
        "4) Bar (horizontal) \u2014 **Top 15 routes by Load Factor**\n",
        "5) Bubble \u2014 **Cost vs Revenue** (size=passengers, color=CASM or Profit Margin)\n",
        "\n",
        "### Filters & Controls\n",
        "- Drop-downs for `carrier`, `month`, `Route`; optional date range.\n",
        "\n",
        "### Layout Tips\n",
        "- KPI scorecards on top (On-Time %, Avg Delay, Cancel %, Load Factor).\n",
        "- Consistent color scales; concise legends; clear axes.\n"
      ]
    }
  ]
}
