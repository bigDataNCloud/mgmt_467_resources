{
 "cells": [
  {
   "cell_type": "markdown",
   "id": "3551153a",
   "metadata": {},
   "source": [
    "# Assignment 2: Automated Data Pipeline & ML Prediction"
   ]
  },
  {
   "cell_type": "markdown",
   "id": "1e0ea74d",
   "metadata": {},
   "source": [
    "### Objective\n",
    "Build an automated batch pipeline that ingests weather data, integrates with Citi Bike data, and trains a regression model in BigQuery ML.\n",
    "\n",
    "### Scenario\n",
    "NYC now wants to enrich Citi Bike data with weather and build predictive models to anticipate trip durations. You will create a Cloud Function pipeline, train a model, and document your architecture.\n",
    "\n",
    "### Tasks\n",
    "1. Project Setup (GitHub repo + README)\n",
    "2. API Integration (weather API with Python)\n",
    "3. BigQuery ML (regression with 4+ features, evaluate + predict)\n",
    "4. Automated Pipeline (Cloud Function + Scheduler → BigQuery)\n",
    "5. Documentation (Architecture diagram + explanation)\n",
    "6. Predictions (ML.PREDICT on sample data)\n",
    "\n",
    "### Deliverables\n",
    "- GitHub repo with Colab notebook + Cloud Function code.\n",
    "- Notebook with API tests, SQL queries, and evaluation metrics.\n",
    "- Screenshots of Cloud Function logs + BigQuery table.\n",
    "- Brightspace submission: text file with GitHub link + screenshots.\n",
    "\n",
    "### AI Documentation\n",
    "- Document at least 2 Gemini prompts used for debugging or interpreting metrics.\n"
   ]
  },
  {
   "cell_type": "code",
   "execution_count": null,
   "id": "b5a33a68",
   "metadata": {},
   "outputs": [],
   "source": [
    "# Start your code here\n"
   ]
  }
 ],
 "metadata": {},
 "nbformat": 4,
 "nbformat_minor": 5
}
