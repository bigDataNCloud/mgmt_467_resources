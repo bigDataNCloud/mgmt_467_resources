{
 "cells": [
  {
   "cell_type": "markdown",
   "id": "9a92001d",
   "metadata": {},
   "source": [
    "# **Assignment 1 — AI‑Assisted Exploratory Data Analysis & BI Dashboard**\n",
    "MGMT 467 · Fall 2025  \n",
    "\n",
    "**Team Name:** ☐  \n",
    "**Members (GitHub handles):** ☐ ☐ ☐ ☐  \n",
    "**GitHub Repo URL:** ☐  \n",
    "**Looker Studio Dashboard (public link):** ☐\n",
    "\n",
    "> **Scenario:** NYC DOT has asked your team to analyze the public Citi Bike program and recommend strategies to improve bike availability and engagement. You will use BigQuery + Gemini to conduct AI‑assisted EDA and publish an executive dashboard."
   ]
  },
  {
   "cell_type": "markdown",
   "id": "6887e658",
   "metadata": {},
   "source": [
    "## ✅ Submission Checklist (Team → Brightspace)\n",
    "- [ ] GitHub repository link (source of record)\n",
    "- [ ] Looker Studio dashboard link\n",
    "- [ ] This notebook committed to GitHub with prompts and results\n",
    "\n",
    "### ✅ Submission Checklist (Individual → Brightspace)\n",
    "- [ ] `Contribution_Reflection.pdf` (with commit/PR evidence + peer eval)"
   ]
  },
  {
   "cell_type": "markdown",
   "id": "d3f4b8d8",
   "metadata": {},
   "source": [
    "## 🎯 Learning Objectives\n",
    "- Generate and refine business hypotheses with **Gemini**\n",
    "- Query large datasets in **BigQuery** with advanced SQL (CTEs, window functions)\n",
    "- Visualize key findings in **Colab** and publish a **Looker Studio** dashboard\n",
    "- Synthesize insights and make **actionable recommendations**"
   ]
  },
  {
   "cell_type": "markdown",
   "id": "119bb0bf",
   "metadata": {},
   "source": [
    "## 🧰 Setup\n",
    "> Run the cells below to connect Colab to Google Cloud & BigQuery."
   ]
  },
  {
   "cell_type": "code",
   "execution_count": null,
   "id": "2888ac35",
   "metadata": {},
   "outputs": [],
   "source": [
    "# Install and import basics (Colab usually has these preinstalled)\n",
    "# !pip install --quiet google-cloud-bigquery pandas matplotlib\n",
    "\n",
    "import pandas as pd\n",
    "import matplotlib.pyplot as plt\n",
    "\n",
    "# Authenticate to Google from Colab\n",
    "from google.colab import auth  # type: ignore\n",
    "auth.authenticate_user()\n",
    "\n",
    "# Set your GCP project ID\n",
    "PROJECT_ID = \"your-gcp-project-id\"  # <-- edit this\n",
    "print(\"Using project:\", PROJECT_ID)"
   ]
  },
  {
   "cell_type": "code",
   "execution_count": null,
   "id": "9a6b7eba",
   "metadata": {},
   "outputs": [],
   "source": [
    "# BigQuery magics (%%bigquery) and client\n",
    "from google.cloud import bigquery\n",
    "client = bigquery.Client(project=PROJECT_ID)\n",
    "\n",
    "# Optional: list datasets to verify access\n",
    "list(client.list_datasets())"
   ]
  },
  {
   "cell_type": "markdown",
   "id": "e23fc40a",
   "metadata": {},
   "source": [
    "## 🧪 Dataset\n",
    "We will use **Citi Bike Trips**: `bigquery-public-data.new_york_citibike.citibike_trips`  \n",
    "Feel free to explore additional public datasets if needed."
   ]
  },
  {
   "cell_type": "markdown",
   "id": "888018e9",
   "metadata": {},
   "source": [
    "## 1) Hypothesis Generation (AI‑Assisted)\n",
    "Use **Gemini** to brainstorm at least **5** candidate questions/hypotheses, then select **3** to pursue.\n",
    "\n",
    "> **Template Prompt (paste the final version you used):**  \n",
    "> *\"You are an analytics co‑pilot. Propose 5 high‑value, testable business questions about the Citi Bike dataset (tripduration, stations, user types, time-of-day/week). Return as bullets with suggested SQL hints.\"*\n",
    "\n",
    "**Selected Hypotheses**\n",
    "1. ☐  \n",
    "2. ☐  \n",
    "3. ☐"
   ]
  },
  {
   "cell_type": "markdown",
   "id": "682466a3",
   "metadata": {},
   "source": [
    "## 2) Advanced SQL Exploration\n",
    "For each hypothesis, include:\n",
    "- The **Gemini prompt** you used to get SQL help\n",
    "- The **final SQL**\n",
    "- The **result table** (top rows)\n",
    "- A short **interpretation**\n",
    "\n",
    "> Tip: Use **CTEs** and at least **one window function** across your work."
   ]
  },
  {
   "cell_type": "markdown",
   "id": "f61cb830",
   "metadata": {},
   "source": [
    "### Hypothesis A — Prompt Log"
   ]
  },
  {
   "cell_type": "markdown",
   "id": "d93cbfba",
   "metadata": {},
   "source": [
    "> Paste Gemini prompt(s) and key suggestion(s) here."
   ]
  },
  {
   "cell_type": "code",
   "execution_count": null,
   "id": "0cafb1b3",
   "metadata": {},
   "outputs": [],
   "source": [
    "# Hypothesis A — SQL (store results in a Pandas DataFrame)\n",
    "query_hyp_a = r\"\"\"\n",
    "-- Your final SQL for Hypothesis A goes here.\n",
    "-- Example skeleton:\n",
    "-- WITH trips AS (\n",
    "--   SELECT *\n",
    "--   FROM `bigquery-public-data.new_york_citibike.citibike_trips`\n",
    "--   WHERE starttime BETWEEN '2019-07-01' AND '2019-07-31'\n",
    "-- )\n",
    "-- SELECT start_station_name, COUNT(*) AS trips\n",
    "-- FROM trips\n",
    "-- GROUP BY start_station_name\n",
    "-- ORDER BY trips DESC\n",
    "-- LIMIT 25\n",
    "\"\"\"\n",
    "\n",
    "df_hyp_a = client.query(query_hyp_a).to_dataframe()\n",
    "df_hyp_a.head()"
   ]
  },
  {
   "cell_type": "markdown",
   "id": "a7276143",
   "metadata": {},
   "source": [
    "**Interpretation (2–4 sentences):** ☐"
   ]
  },
  {
   "cell_type": "markdown",
   "id": "de9c575f",
   "metadata": {},
   "source": [
    "---"
   ]
  },
  {
   "cell_type": "markdown",
   "id": "62059bee",
   "metadata": {},
   "source": [
    "### Hypothesis B — Prompt Log"
   ]
  },
  {
   "cell_type": "markdown",
   "id": "6edb4754",
   "metadata": {},
   "source": [
    "> Paste Gemini prompt(s) and key suggestion(s) here."
   ]
  },
  {
   "cell_type": "code",
   "execution_count": null,
   "id": "af27bb0e",
   "metadata": {},
   "outputs": [],
   "source": [
    "# Hypothesis B — SQL\n",
    "query_hyp_b = r\"\"\"\n",
    "-- Your final SQL for Hypothesis B goes here.\n",
    "\"\"\"\n",
    "df_hyp_b = client.query(query_hyp_b).to_dataframe()\n",
    "df_hyp_b.head()"
   ]
  },
  {
   "cell_type": "markdown",
   "id": "f2387bc3",
   "metadata": {},
   "source": [
    "**Interpretation (2–4 sentences):** ☐"
   ]
  },
  {
   "cell_type": "markdown",
   "id": "fdeb8563",
   "metadata": {},
   "source": [
    "---"
   ]
  },
  {
   "cell_type": "markdown",
   "id": "e3402eb4",
   "metadata": {},
   "source": [
    "### Hypothesis C — Prompt Log"
   ]
  },
  {
   "cell_type": "markdown",
   "id": "b1794b1d",
   "metadata": {},
   "source": [
    "> Paste Gemini prompt(s) and key suggestion(s) here."
   ]
  },
  {
   "cell_type": "code",
   "execution_count": null,
   "id": "0da8d37b",
   "metadata": {},
   "outputs": [],
   "source": [
    "# Hypothesis C — SQL\n",
    "query_hyp_c = r\"\"\"\n",
    "-- Your final SQL for Hypothesis C goes here.\n",
    "\"\"\"\n",
    "df_hyp_c = client.query(query_hyp_c).to_dataframe()\n",
    "df_hyp_c.head()"
   ]
  },
  {
   "cell_type": "markdown",
   "id": "da2a11f9",
   "metadata": {},
   "source": [
    "**Interpretation (2–4 sentences):** ☐"
   ]
  },
  {
   "cell_type": "markdown",
   "id": "a115b614",
   "metadata": {},
   "source": [
    "## 3) Visualizations (in Colab)\n",
    "Create **at least 3** charts that communicate your findings.  \n",
    "> Keep charts readable and labeled. Use `matplotlib` (no specific styles required)."
   ]
  },
  {
   "cell_type": "code",
   "execution_count": null,
   "id": "c81f84f9",
   "metadata": {},
   "outputs": [],
   "source": [
    "# Example: Bar chart from df_hyp_a\n",
    "# (Replace with charts that fit your story)\n",
    "ax = df_hyp_a.head(10).plot(kind=\"bar\", x=df_hyp_a.columns[0], y=df_hyp_a.columns[1], legend=False)\n",
    "ax.set_xlabel(df_hyp_a.columns[0])\n",
    "ax.set_ylabel(df_hyp_a.columns[1])\n",
    "ax.set_title(\"Top Categories (Example)\")\n",
    "plt.show()"
   ]
  },
  {
   "cell_type": "markdown",
   "id": "922033d8",
   "metadata": {},
   "source": [
    "## 4) KPIs & Looker Studio Dashboard\n",
    "- **KPI 1:** ☐  \n",
    "- **KPI 2:** ☐  \n",
    "- **KPI 3:** ☐  \n",
    "- **KPI 4 (optional):** ☐  \n",
    "\n",
    "**Dashboard Link:** ☐ (make public for viewing)  \n",
    "> Ensure labels, filters, and date controls are clear for non‑technical stakeholders."
   ]
  },
  {
   "cell_type": "markdown",
   "id": "78c8e441",
   "metadata": {},
   "source": [
    "## 5) Synthesis & Recommendations\n",
    "Summarize your **top 3 insights** and provide **2–3 actionable recommendations** for NYC DOT."
   ]
  },
  {
   "cell_type": "markdown",
   "id": "e85f50b3",
   "metadata": {},
   "source": [
    "## 📒 AI Prompt Log (Required)\n",
    "Record at least **3** prompts and describe how you evaluated or refined Gemini’s output.\n",
    "\n",
    "| # | Prompt (summary) | Where used | What changed after refinement? |\n",
    "|---|------------------|------------|--------------------------------|\n",
    "| 1 | ☐ | Hyp A/B/C | ☐ |\n",
    "| 2 | ☐ | Hyp A/B/C | ☐ |\n",
    "| 3 | ☐ | Hyp A/B/C | ☐ |"
   ]
  },
  {
   "cell_type": "markdown",
   "id": "99acb932",
   "metadata": {},
   "source": [
    "## 📦 Appendix — Reproducibility\n",
    "- BigQuery location: ☐  \n",
    "- Query costs observed (if any): ☐  \n",
    "- Known data quality caveats: ☐"
   ]
  }
 ],
 "metadata": {},
 "nbformat": 4,
 "nbformat_minor": 5
}
