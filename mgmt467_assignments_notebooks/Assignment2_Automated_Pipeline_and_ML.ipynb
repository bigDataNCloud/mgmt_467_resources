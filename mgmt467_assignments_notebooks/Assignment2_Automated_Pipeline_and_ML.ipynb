{
 "cells": [
  {
   "cell_type": "markdown",
   "id": "1428ffc1",
   "metadata": {},
   "source": [
    "# **Assignment 2 — Automated Data Pipeline & ML Prediction**\n",
    "MGMT 467 · Fall 2025  \n",
    "\n",
    "**Team Name:** ☐  \n",
    "**Members (GitHub handles):** ☐ ☐ ☐ ☐  \n",
    "**GitHub Repo URL:** ☐\n",
    "\n",
    "> **Scenario:** Extend your analysis by enriching data with **hourly weather** and training a **BQML model**. Build a **serverless batch pipeline** (Cloud Function + Scheduler) to keep weather updated."
   ]
  },
  {
   "cell_type": "markdown",
   "id": "29ac7d2b",
   "metadata": {},
   "source": [
    "## ✅ Submission Checklist (Team → Brightspace)\n",
    "- [ ] GitHub repo link (source of record)  \n",
    "- [ ] Screenshot: Cloud Function successful runs (Logs Explorer)  \n",
    "- [ ] Screenshot: BigQuery weather table with new rows  \n",
    "- [ ] This notebook with prompts and results committed to GitHub\n",
    "\n",
    "### ✅ Submission Checklist (Individual → Brightspace)\n",
    "- [ ] `Contribution_Reflection.pdf` (commit/PR evidence + peer eval)"
   ]
  },
  {
   "cell_type": "markdown",
   "id": "987cd330",
   "metadata": {},
   "source": [
    "## 🎯 Learning Objectives\n",
    "- Call an external API and stage data into **BigQuery**\n",
    "- Train, evaluate, and use a **BQML** model\n",
    "- Deploy a **Cloud Function** and schedule it with **Cloud Scheduler**\n",
    "- Document architecture, logs, and verification steps"
   ]
  },
  {
   "cell_type": "markdown",
   "id": "5a522f32",
   "metadata": {},
   "source": [
    "## 🧰 Setup\n",
    "> Run once per runtime session."
   ]
  },
  {
   "cell_type": "code",
   "execution_count": null,
   "id": "3232e97b",
   "metadata": {},
   "outputs": [],
   "source": [
    "# !pip install --quiet google-cloud-bigquery google-cloud-storage google-cloud-pubsub\n",
    "\n",
    "import pandas as pd\n",
    "import json\n",
    "from google.colab import auth  # type: ignore\n",
    "auth.authenticate_user()\n",
    "\n",
    "PROJECT_ID = \"your-gcp-project-id\"  # <-- edit\n",
    "DATASET_ID = \"your_dataset\"         # <-- create in BigQuery (e.g., mgmt467)\n",
    "REGION = \"US\"                       # <-- BigQuery region\n",
    "print(\"Using project:\", PROJECT_ID)"
   ]
  },
  {
   "cell_type": "code",
   "execution_count": null,
   "id": "fe9388b7",
   "metadata": {},
   "outputs": [],
   "source": [
    "from google.cloud import bigquery\n",
    "bq = bigquery.Client(project=PROJECT_ID)\n",
    "\n",
    "# Create dataset if not exists\n",
    "ds_ref = bigquery.Dataset(f\"{PROJECT_ID}.{DATASET_ID}\")\n",
    "ds_ref.location = REGION\n",
    "try:\n",
    "    bq.create_dataset(ds_ref, exists_ok=True)\n",
    "    print(\"Dataset ready:\", f\"{PROJECT_ID}.{DATASET_ID}\")\n",
    "except Exception as e:\n",
    "    print(e)"
   ]
  },
  {
   "cell_type": "markdown",
   "id": "bfde1f98",
   "metadata": {},
   "source": [
    "## 1) Weather API (Prototype in Colab)\n",
    "Use a free API (e.g., OpenWeatherMap). **Do not commit secrets.**  \n",
    "Store your API key in a Colab secret during testing."
   ]
  },
  {
   "cell_type": "code",
   "execution_count": null,
   "id": "d77e13ae",
   "metadata": {},
   "outputs": [],
   "source": [
    "# Example prototype (adapt to your chosen API)\n",
    "# NEVER commit your real API key to GitHub.\n",
    "import requests, datetime as dt\n",
    "\n",
    "CITY = \"New York\"\n",
    "API_KEY = \"YOUR_API_KEY\"  # <-- Set manually in Colab only (DO NOT COMMIT)\n",
    "url = f\"https://api.openweathermap.org/data/2.5/weather?q={CITY}&appid={API_KEY}&units=metric\"\n",
    "\n",
    "resp = requests.get(url)\n",
    "resp.raise_for_status()\n",
    "weather = resp.json()\n",
    "weather_sample = {\n",
    "    \"city\": CITY,\n",
    "    \"ts_utc\": pd.Timestamp.utcnow().isoformat(),\n",
    "    \"temp_c\": weather.get(\"main\", {}).get(\"temp\"),\n",
    "    \"humidity\": weather.get(\"main\", {}).get(\"humidity\"),\n",
    "    \"wind_mps\": weather.get(\"wind\", {}).get(\"speed\"),\n",
    "    \"raw\": json.dumps(weather)[:500]  # trimmed raw blob for debugging\n",
    "}\n",
    "weather_sample"
   ]
  },
  {
   "cell_type": "markdown",
   "id": "93e23194",
   "metadata": {},
   "source": [
    "### Load Prototype Row into BigQuery\n",
    "Create a table if it doesn't exist and append the prototype record."
   ]
  },
  {
   "cell_type": "code",
   "execution_count": null,
   "id": "a2085cd8",
   "metadata": {},
   "outputs": [],
   "source": [
    "schema = [\n",
    "    bigquery.SchemaField(\"city\", \"STRING\"),\n",
    "    bigquery.SchemaField(\"ts_utc\", \"TIMESTAMP\"),\n",
    "    bigquery.SchemaField(\"temp_c\", \"FLOAT\"),\n",
    "    bigquery.SchemaField(\"humidity\", \"FLOAT\"),\n",
    "    bigquery.SchemaField(\"wind_mps\", \"FLOAT\"),\n",
    "    bigquery.SchemaField(\"raw\", \"STRING\"),\n",
    "]\n",
    "\n",
    "table_id = f\"{PROJECT_ID}.{DATASET_ID}.weather_hourly\"\n",
    "table = bigquery.Table(table_id, schema=schema)\n",
    "table = bq.create_table(table, exists_ok=True)\n",
    "\n",
    "errors = bq.insert_rows_json(table, [weather_sample])\n",
    "print(\"Insert errors:\", errors)"
   ]
  },
  {
   "cell_type": "markdown",
   "id": "0aeb0898",
   "metadata": {},
   "source": [
    "## 2) BQML Model (Regression or Classification)\n",
    "Train a model using BQML. You may use Citi Bike (`bigquery-public-data.new_york_citibike.citibike_trips`) or Chicago Taxi, and incorporate engineered features.\n",
    "\n",
    "> Example objective (regression): Predict `tripduration`."
   ]
  },
  {
   "cell_type": "code",
   "execution_count": null,
   "id": "698807a3",
   "metadata": {},
   "outputs": [],
   "source": [
    "# CREATE MODEL (template) — edit features/target as needed\n",
    "query_create_model = r\"\"\"\n",
    "CREATE OR REPLACE MODEL `{PROJECT_ID}.{DATASET_ID}.trip_duration_model`\n",
    "OPTIONS(\n",
    "  model_type = 'linear_reg',\n",
    "  input_label_cols = ['tripduration']\n",
    ") AS\n",
    "\n",
    "SELECT\n",
    "  tripduration,\n",
    "  EXTRACT(HOUR FROM starttime) AS start_hour,\n",
    "  EXTRACT(DAYOFWEEK FROM starttime) AS dow,\n",
    "  start_station_id,\n",
    "  end_station_id,\n",
    "  usertype\n",
    "FROM `bigquery-public-data.new_york_citibike.citibike_trips`\n",
    "WHERE starttime BETWEEN '2019-07-01' AND '2019-07-31';\n",
    "\"\"\"\n",
    "print(query_create_model)"
   ]
  },
  {
   "cell_type": "code",
   "execution_count": null,
   "id": "35898ebd",
   "metadata": {},
   "outputs": [],
   "source": [
    "# Run the CREATE MODEL\n",
    "bq.query(query_create_model.format(PROJECT_ID=PROJECT_ID, DATASET_ID=DATASET_ID)).result()\n",
    "print(\"Model created.\")"
   ]
  },
  {
   "cell_type": "code",
   "execution_count": null,
   "id": "907cfd0b",
   "metadata": {},
   "outputs": [],
   "source": [
    "# Evaluate the model\n",
    "query_eval = f\"\"\"\n",
    "SELECT * FROM ML.EVALUATE(MODEL `{PROJECT_ID}.{DATASET_ID}.trip_duration_model`)\n",
    "\"\"\"\n",
    "df_eval = bq.query(query_eval).to_dataframe()\n",
    "df_eval"
   ]
  },
  {
   "cell_type": "code",
   "execution_count": null,
   "id": "8671a7b9",
   "metadata": {},
   "outputs": [],
   "source": [
    "# Predict (example with sampled rows)\n",
    "query_pred = f\"\"\"\n",
    "SELECT *\n",
    "FROM ML.PREDICT(MODEL `{PROJECT_ID}.{DATASET_ID}.trip_duration_model`,\n",
    "  (\n",
    "    SELECT\n",
    "      EXTRACT(HOUR FROM starttime) AS start_hour,\n",
    "      EXTRACT(DAYOFWEEK FROM starttime) AS dow,\n",
    "      start_station_id,\n",
    "      end_station_id,\n",
    "      usertype\n",
    "    FROM `bigquery-public-data.new_york_citibike.citibike_trips`\n",
    "    WHERE starttime BETWEEN '2019-08-01' AND '2019-08-02'\n",
    "    LIMIT 100\n",
    "  )\n",
    ")\n",
    "\"\"\"\n",
    "df_pred = bq.query(query_pred).to_dataframe()\n",
    "df_pred.head()"
   ]
  },
  {
   "cell_type": "markdown",
   "id": "c8f74efa",
   "metadata": {},
   "source": [
    "## 3) Cloud Function (Deployment Package)\n",
    "Create a **Python Cloud Function** that fetches weather and writes to BigQuery.\n",
    "\n",
    "> Place these two files in your repo under `/cloud_function/`."
   ]
  },
  {
   "cell_type": "markdown",
   "id": "bf1f8a4b",
   "metadata": {},
   "source": [
    "**`main.py` (template)**\n",
    "```python\n",
    "import os, json, datetime as dt\n",
    "from google.cloud import bigquery\n",
    "import functions_framework\n",
    "import requests\n",
    "\n",
    "PROJECT_ID = os.environ.get(\"GCP_PROJECT\")\n",
    "DATASET_ID = os.environ.get(\"DATASET_ID\", \"your_dataset\")\n",
    "TABLE_ID = f\"{PROJECT_ID}.{DATASET_ID}.weather_hourly\"\n",
    "CITY = os.environ.get(\"CITY\", \"New York\")\n",
    "API_KEY = os.environ.get(\"OWM_API_KEY\")\n",
    "\n",
    "@functions_framework.http\n",
    "def ingest_weather(request):\n",
    "    if not API_KEY:\n",
    "        return (\"Missing OWM_API_KEY\", 500)\n",
    "\n",
    "    url = f\"https://api.openweathermap.org/data/2.5/weather?q={CITY}&appid={API_KEY}&units=metric\"\n",
    "    resp = requests.get(url, timeout=20)\n",
    "    resp.raise_for_status()\n",
    "    w = resp.json()\n",
    "\n",
    "    row = [{\n",
    "        \"city\": CITY,\n",
    "        \"ts_utc\": dt.datetime.utcnow().isoformat(),\n",
    "        \"temp_c\": w.get(\"main\", {}).get(\"temp\"),\n",
    "        \"humidity\": w.get(\"main\", {}).get(\"humidity\"),\n",
    "        \"wind_mps\": w.get(\"wind\", {}).get(\"speed\"),\n",
    "        \"raw\": json.dumps(w)[:500]\n",
    "    }]\n",
    "\n",
    "    bq = bigquery.Client(project=PROJECT_ID)\n",
    "    errors = bq.insert_rows_json(TABLE_ID, row)\n",
    "    if errors:\n",
    "        return (str(errors), 500)\n",
    "    return (\"OK\", 200)\n",
    "```"
   ]
  },
  {
   "cell_type": "markdown",
   "id": "ddee5c57",
   "metadata": {},
   "source": [
    "**`requirements.txt`**\n",
    "```\n",
    "google-cloud-bigquery==3.*\n",
    "functions-framework==3.*\n",
    "requests==2.*\n",
    "```"
   ]
  },
  {
   "cell_type": "markdown",
   "id": "fa8d99e0",
   "metadata": {},
   "source": [
    "### Deploy (Console or gcloud)\n",
    "- **Runtime:** Python 3.11  \n",
    "- **Trigger:** HTTP  \n",
    "- **Region:** us-central1 (or your choice)  \n",
    "- **Env Vars:** `DATASET_ID=your_dataset`, `CITY=New York`, `OWM_API_KEY=***`\n",
    "\n",
    "**gcloud (template):**\n",
    "```bash\n",
    "gcloud functions deploy ingest_weather   --gen2 --region=us-central1 --runtime=python311 --source=.   --entry-point=ingest_weather --trigger-http --allow-unauthenticated   --set-env-vars=DATASET_ID=your_dataset,CITY=\"New York\",OWM_API_KEY=YOUR_KEY\n",
    "```"
   ]
  },
  {
   "cell_type": "markdown",
   "id": "752aa58d",
   "metadata": {},
   "source": [
    "## 4) Cloud Scheduler (Hourly Trigger)\n",
    "Create a Scheduler job to hit the Cloud Function every hour.\n",
    "\n",
    "**gcloud (template):**\n",
    "```bash\n",
    "gcloud scheduler jobs create http weather-hourly   --location=us-central1   --schedule=\"0 * * * *\"   --uri=\"https://<function-url>\"   --http-method=GET\n",
    "```"
   ]
  },
  {
   "cell_type": "markdown",
   "id": "b3ff983f",
   "metadata": {},
   "source": [
    "## 5) Verification & Documentation\n",
    "- **Logs Explorer:** Screenshot of two successful runs  \n",
    "- **BigQuery:** Screenshot showing new rows in `weather_hourly`  \n",
    "- **README.md:** Architecture diagram + setup steps + known issues"
   ]
  },
  {
   "cell_type": "markdown",
   "id": "570b9294",
   "metadata": {},
   "source": [
    "## 📒 AI Prompt Log (Required)\n",
    "Record at least **3** prompts and describe how you evaluated or refined Gemini’s output.\n",
    "\n",
    "| # | Prompt (summary) | Where used | What changed after refinement? |\n",
    "|---|------------------|------------|--------------------------------|\n",
    "| 1 | ☐ | API / BQML / Deploy | ☐ |\n",
    "| 2 | ☐ | API / BQML / Deploy | ☐ |\n",
    "| 3 | ☐ | API / BQML / Deploy | ☐ |"
   ]
  },
  {
   "cell_type": "markdown",
   "id": "56f77926",
   "metadata": {},
   "source": [
    "## 📦 Appendix — Reproducibility\n",
    "- Project/region: ☐  \n",
    "- Dataset/table names: ☐  \n",
    "- Model name: ☐  \n",
    "- Cost/quotas encountered: ☐"
   ]
  }
 ],
 "metadata": {},
 "nbformat": 4,
 "nbformat_minor": 5
}
