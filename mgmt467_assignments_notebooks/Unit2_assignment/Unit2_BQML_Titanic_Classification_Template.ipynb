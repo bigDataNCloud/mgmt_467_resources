{
 "cells": [
  {
   "cell_type": "markdown",
   "id": "44a5f8c0",
   "metadata": {},
   "source": [
    "\n",
    "# Unit 2 — Team Classification (Titanic, BQML)\n",
    "\n",
    "**Goal (team):** Build an *ops-ready* classifier in **BigQuery ML** to predict **`survived`** on the Titanic dataset. Requirements mirror the Flights notebook for comparability.\n",
    "    \n",
    "**Dataset:** `bigquery-public-data.ml_datasets.titanic`\n",
    "\n",
    "**Deliver (inside this notebook):**\n",
    "- One **LOGISTIC_REG** baseline + one **engineered** model (`TRANSFORM`)\n",
    "- **Evaluation** via `ML.EVALUATE` and **confusion matrices** (0.5 + custom threshold)\n",
    "- **Threshold choice** + 3–5 sentence ops justification (e.g., lifeboat allocation policy in a hypothetical ops setting)\n",
    "- Embedded **rubric** below\n"
   ]
  },
  {
   "cell_type": "code",
   "execution_count": null,
   "id": "bffcf798",
   "metadata": {},
   "outputs": [],
   "source": [
    "\n",
    "# --- Minimal setup (edit 2 vars) ---\n",
    "from google.colab import auth\n",
    "auth.authenticate_user()\n",
    "\n",
    "import os\n",
    "from google.cloud import bigquery\n",
    "\n",
    "PROJECT_ID = \"YOUR_PROJECT_ID\"   # e.g., mgmt-467-47888\n",
    "REGION     = \"us-central1\"\n",
    "TABLE_PATH = \"bigquery-public-data.ml_datasets.titanic\"\n",
    "\n",
    "os.environ[\"PROJECT_ID\"] = PROJECT_ID\n",
    "os.environ[\"REGION\"]     = REGION\n",
    "bq = bigquery.Client(project=PROJECT_ID)\n",
    "\n",
    "print(\"BQ Project:\", PROJECT_ID)\n",
    "print(\"Source table:\", TABLE_PATH)\n"
   ]
  },
  {
   "cell_type": "markdown",
   "id": "f8ad0308",
   "metadata": {},
   "source": [
    "### Quick sanity check"
   ]
  },
  {
   "cell_type": "code",
   "execution_count": null,
   "id": "2fbb056c",
   "metadata": {},
   "outputs": [],
   "source": [
    "\n",
    "bq.query(f\"SELECT * FROM `{TABLE_PATH}` LIMIT 5\").result().to_dataframe()\n"
   ]
  },
  {
   "cell_type": "markdown",
   "id": "c1790596",
   "metadata": {},
   "source": [
    "\n",
    "## 1) Canonical mapping (minimal)\n",
    "We map to:\n",
    "- `survived` (BOOL), `pclass` (INT), `sex` (STRING), `age` (NUM), `sibsp` (INT), `parch` (INT), `fare` (NUM), `embarked` (STRING)\n"
   ]
  },
  {
   "cell_type": "code",
   "execution_count": null,
   "id": "a84fb66c",
   "metadata": {},
   "outputs": [],
   "source": [
    "\n",
    "CANONICAL_BASE_SQL = f'''\n",
    "WITH titanic_c AS (\n",
    "  SELECT\n",
    "    CAST(survived AS BOOL) AS survived,\n",
    "    CAST(pclass AS INT64)  AS pclass,\n",
    "    CAST(sex AS STRING)    AS sex,\n",
    "    CAST(age AS FLOAT64)   AS age,\n",
    "    CAST(sibsp AS INT64)   AS sibsp,\n",
    "    CAST(parch AS INT64)   AS parch,\n",
    "    CAST(fare AS FLOAT64)  AS fare,\n",
    "    CAST(embarked AS STRING) AS embarked\n",
    "  FROM `{TABLE_PATH}`\n",
    "  WHERE age IS NOT NULL AND fare IS NOT NULL\n",
    ")\n",
    "'''\n",
    "print(CANONICAL_BASE_SQL[:500] + \"\\n...\")\n"
   ]
  },
  {
   "cell_type": "markdown",
   "id": "819da349",
   "metadata": {},
   "source": [
    "### 2) Split (80/20)"
   ]
  },
  {
   "cell_type": "code",
   "execution_count": null,
   "id": "3a8967d7",
   "metadata": {},
   "outputs": [],
   "source": [
    "\n",
    "SPLIT_CLAUSE = r'''\n",
    ", split AS (\n",
    "  SELECT t.*,\n",
    "         CASE WHEN RAND(12345) < 0.8 THEN 'TRAIN' ELSE 'EVAL' END AS split\n",
    "  FROM titanic_c t\n",
    ")\n",
    "'''\n",
    "print(SPLIT_CLAUSE)\n"
   ]
  },
  {
   "cell_type": "markdown",
   "id": "7f066b95",
   "metadata": {},
   "source": [
    "\n",
    "## 3) Baseline model — LOGISTIC_REG (`survived`)\n",
    "Use a small set of signals (keep parity with Flights complexity).\n"
   ]
  },
  {
   "cell_type": "code",
   "execution_count": null,
   "id": "656478bc",
   "metadata": {},
   "outputs": [],
   "source": [
    "\n",
    "SCHEMA = f\"{PROJECT_ID}.unit2_titanic\"\n",
    "MODEL_BASE = f\"{SCHEMA}.clf_survived_base\"\n",
    "\n",
    "sql_baseline = f'''\n",
    "{CANONICAL_BASE_SQL}\n",
    "{SPLIT_CLAUSE}\n",
    "\n",
    "CREATE SCHEMA IF NOT EXISTS `{SCHEMA}`;\n",
    "\n",
    "CREATE OR REPLACE MODEL `{MODEL_BASE}`\n",
    "OPTIONS (MODEL_TYPE='LOGISTIC_REG', INPUT_LABEL_COLS=['survived']) AS\n",
    "SELECT\n",
    "  survived, pclass, sex, age, sibsp, parch, fare, embarked\n",
    "FROM split\n",
    "WHERE split='TRAIN'\n",
    ";\n",
    "\n",
    "SELECT * FROM ML.EVALUATE(\n",
    "  MODEL `{MODEL_BASE}`,\n",
    "  (SELECT survived, pclass, sex, age, sibsp, parch, fare, embarked\n",
    "   FROM split WHERE split='EVAL')\n",
    ");\n",
    "'''\n",
    "job = bq.query(sql_baseline); _ = job.result()\n",
    "print(\"Baseline model trained:\", MODEL_BASE)\n"
   ]
  },
  {
   "cell_type": "markdown",
   "id": "08535d8e",
   "metadata": {},
   "source": [
    "### Confusion matrix — default 0.5 threshold"
   ]
  },
  {
   "cell_type": "code",
   "execution_count": null,
   "id": "5aa25a7c",
   "metadata": {},
   "outputs": [],
   "source": [
    "\n",
    "cm_default_sql = f'''\n",
    "{CANONICAL_BASE_SQL}\n",
    "{SPLIT_CLAUSE}\n",
    "\n",
    "WITH scored AS (\n",
    "  SELECT\n",
    "    t.survived AS label,\n",
    "    p.predicted_survived AS pred_label,\n",
    "    p.predicted_survived_probs[OFFSET(0)].prob AS score\n",
    "  FROM split t\n",
    "  JOIN ML.PREDICT(MODEL `{MODEL_BASE}`,\n",
    "      (SELECT pclass, sex, age, sibsp, parch, fare, embarked FROM split)) AS p\n",
    "  ON TRUE\n",
    "  WHERE split='EVAL'\n",
    ")\n",
    "SELECT\n",
    "  SUM(CASE WHEN label=TRUE  AND pred_label=TRUE  THEN 1 ELSE 0 END) AS TP,\n",
    "  SUM(CASE WHEN label=FALSE AND pred_label=TRUE  THEN 1 ELSE 0 END) AS FP,\n",
    "  SUM(CASE WHEN label=TRUE  AND pred_label=FALSE THEN 1 ELSE 0 END) AS FN,\n",
    "  SUM(CASE WHEN label=FALSE AND pred_label=FALSE THEN 1 ELSE 0 END) AS TN\n",
    "FROM scored;\n",
    "'''\n",
    "bq.query(cm_default_sql).result().to_dataframe()\n"
   ]
  },
  {
   "cell_type": "markdown",
   "id": "3f7f9614",
   "metadata": {},
   "source": [
    "### Confusion matrix — your custom threshold"
   ]
  },
  {
   "cell_type": "code",
   "execution_count": null,
   "id": "e40f2617",
   "metadata": {},
   "outputs": [],
   "source": [
    "\n",
    "CUSTOM_THRESHOLD = 0.6   # TODO: justify in ops (e.g., conservative rescue policy)\n",
    "\n",
    "cm_thresh_sql = f'''\n",
    "{CANONICAL_BASE_SQL}\n",
    "{SPLIT_CLAUSE}\n",
    "\n",
    "WITH scored AS (\n",
    "  SELECT\n",
    "    t.survived AS label,\n",
    "    CAST(score >= {CUSTOM_THRESHOLD} AS BOOL) AS pred_label\n",
    "  FROM (\n",
    "    SELECT t.*, p.predicted_survived_probs[OFFSET(0)].prob AS score\n",
    "    FROM split t\n",
    "    JOIN ML.PREDICT(MODEL `{MODEL_BASE}`,\n",
    "        (SELECT pclass, sex, age, sibsp, parch, fare, embarked FROM split)) AS p\n",
    "    ON TRUE\n",
    "    WHERE split='EVAL'\n",
    "  )\n",
    ")\n",
    "SELECT\n",
    "  SUM(CASE WHEN label=TRUE  AND pred_label=TRUE  THEN 1 ELSE 0 END) AS TP,\n",
    "  SUM(CASE WHEN label=FALSE AND pred_label=TRUE  THEN 1 ELSE 0 END) AS FP,\n",
    "  SUM(CASE WHEN label=TRUE  AND pred_label=FALSE THEN 1 ELSE 0 END) AS FN,\n",
    "  SUM(CASE WHEN label=FALSE AND pred_label=FALSE THEN 1 ELSE 0 END) AS TN\n",
    "FROM scored;\n",
    "'''\n",
    "bq.query(cm_thresh_sql).result().to_dataframe()\n"
   ]
  },
  {
   "cell_type": "markdown",
   "id": "900a4d84",
   "metadata": {},
   "source": [
    "\n",
    "## 4) Engineered model — `TRANSFORM`\n",
    "Create **family_size**, **fare_bucket**, and a **sex_pclass** interaction (categorical). Compare with baseline.\n"
   ]
  },
  {
   "cell_type": "code",
   "execution_count": null,
   "id": "0a467461",
   "metadata": {},
   "outputs": [],
   "source": [
    "\n",
    "MODEL_XFORM = f\"{SCHEMA}.clf_survived_xform\"\n",
    "\n",
    "sql_xform = f'''\n",
    "{CANONICAL_BASE_SQL}\n",
    "{SPLIT_CLAUSE}\n",
    "\n",
    "CREATE OR REPLACE MODEL `{MODEL_XFORM}`\n",
    "TRANSFORM (\n",
    "  -- engineered\n",
    "  (sibsp + parch + 1) AS family_size,\n",
    "  CASE\n",
    "    WHEN fare < 10 THEN 'low'\n",
    "    WHEN fare < 50 THEN 'mid'\n",
    "    ELSE 'high'\n",
    "  END AS fare_bucket,\n",
    "  CONCAT(sex, '_', CAST(pclass AS STRING)) AS sex_pclass,\n",
    "  -- include base features too\n",
    "  pclass, sex, age, sibsp, parch, fare, embarked\n",
    ")\n",
    "OPTIONS (MODEL_TYPE='LOGISTIC_REG', INPUT_LABEL_COLS=['survived']) AS\n",
    "SELECT * FROM split WHERE split='TRAIN'\n",
    ";\n",
    "\n",
    "SELECT 'baseline' AS model_version, * FROM ML.EVALUATE(\n",
    "  MODEL `{MODEL_BASE}`,\n",
    "  (SELECT survived, pclass, sex, age, sibsp, parch, fare, embarked FROM split WHERE split='EVAL')\n",
    ")\n",
    "UNION ALL\n",
    "SELECT 'engineered' AS model_version, * FROM ML.EVALUATE(\n",
    "  MODEL `{MODEL_XFORM}`,\n",
    "  (SELECT * FROM split WHERE split='EVAL')\n",
    ");\n",
    "'''\n",
    "job = bq.query(sql_xform); _ = job.result()\n",
    "print(\"Engineered model trained:\", MODEL_XFORM)\n"
   ]
  },
  {
   "cell_type": "markdown",
   "id": "656a76dc",
   "metadata": {},
   "source": [
    "\n",
    "### Write-up (concise)\n",
    "- **Threshold chosen & ops rationale:** …  \n",
    "- **Baseline vs engineered — changes in AUC/precision/recall:** …  \n",
    "- **Risk framing:** FP vs FN trade in a rescue/triage-like context: what error hurts more and why? …\n"
   ]
  },
  {
   "cell_type": "markdown",
   "id": "d115d103",
   "metadata": {},
   "source": [
    "\n",
    "---\n",
    "\n",
    "## Rubric (Titanic, 100 pts)\n",
    "**Team-only deliverable in this notebook**\n",
    "\n",
    "- Baseline LOGISTIC_REG + evaluation (AUC + confusion @0.5) — **20**  \n",
    "- Custom threshold confusion matrix + ops justification — **20**  \n",
    "- Engineered model with `TRANSFORM` (family_size, fare_bucket, sex_pclass) — **20**  \n",
    "- Comparison table (baseline vs engineered) + 3–5 sentence interpretation — **20**  \n",
    "- Reproducibility: parameters clear, no hidden magic; mapping documented — **10**  \n",
    "- Governance notes: assumptions/limitations + slices you would monitor — **10**\n",
    "\n",
    "> **Strictness:** No screenshots; use actual results cells. Keep explanations concise (bullet points OK).\n"
   ]
  }
 ],
 "metadata": {},
 "nbformat": 4,
 "nbformat_minor": 5
}