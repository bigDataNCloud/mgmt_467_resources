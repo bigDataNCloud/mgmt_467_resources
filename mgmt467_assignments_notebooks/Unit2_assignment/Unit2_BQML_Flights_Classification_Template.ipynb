{
 "cells": [
  {
   "cell_type": "markdown",
   "id": "cc2ea114",
   "metadata": {},
   "source": [
    "\n",
    "# Unit 2 — Team Classification (Flights, BQML)\n",
    "\n",
    "**Goal (team):** Build an *ops-ready* classifier in **BigQuery ML** to predict **`diverted`** on U.S. flights. Minimal handholding by design.\n",
    "\n",
    "**What you deliver (inside this notebook):**\n",
    "- One **LOGISTIC_REG** model (baseline), one **engineered** model using `TRANSFORM`\n",
    "- **Evaluation** via `ML.EVALUATE` and **confusion matrices** (default 0.5 + your custom threshold)\n",
    "- **Threshold choice** + 3–5 sentence ops justification\n",
    "- Embedded **rubric** below (self-check before submission)\n",
    "\n",
    "> Choose *one* dataset table that exists at your institution:  \n",
    "> • `bigquery-public-data.faa.us_flights` **or** `bigquery-public-data.flights.*`  \n",
    "> Make sure the table has `carrier`, `dep_delay`, `arr_delay` (for filters), `origin`, `dest`, `diverted` (or equivalent).\n"
   ]
  },
  {
   "cell_type": "code",
   "execution_count": null,
   "id": "3c294930",
   "metadata": {},
   "outputs": [],
   "source": [
    "\n",
    "# --- Minimal setup (edit 3 vars) ---\n",
    "from google.colab import auth\n",
    "auth.authenticate_user()\n",
    "\n",
    "import os\n",
    "from google.cloud import bigquery\n",
    "\n",
    "PROJECT_ID = \"YOUR_PROJECT_ID\"      # e.g., mgmt-467-47888\n",
    "REGION     = \"us-central1\"\n",
    "TABLE_PATH = \"bigquery-public-data.faa.us_flights\"   # or your `bigquery-public-data.flights` table/view\n",
    "\n",
    "os.environ[\"PROJECT_ID\"] = PROJECT_ID\n",
    "os.environ[\"REGION\"]     = REGION\n",
    "bq = bigquery.Client(project=PROJECT_ID)\n",
    "\n",
    "print(\"BQ Project:\", PROJECT_ID)\n",
    "print(\"Source table:\", TABLE_PATH)\n"
   ]
  },
  {
   "cell_type": "markdown",
   "id": "0083eaf9",
   "metadata": {},
   "source": [
    "### Quick sanity check"
   ]
  },
  {
   "cell_type": "code",
   "execution_count": null,
   "id": "0e402070",
   "metadata": {},
   "outputs": [],
   "source": [
    "\n",
    "preview_sql = f\"SELECT * FROM `{TABLE_PATH}` LIMIT 5\"\n",
    "bq.query(preview_sql).result().to_dataframe()\n"
   ]
  },
  {
   "cell_type": "markdown",
   "id": "26942614",
   "metadata": {},
   "source": [
    "\n",
    "## 1) Canonical mapping (adjust as needed)\n",
    "Map to a minimal schema used in the rest of the notebook:\n",
    "- `flight_date` (DATE), `dep_delay` (NUM), `distance` (NUM), `carrier` (STRING), `origin` (STRING), `dest` (STRING), `diverted` (BOOL)\n"
   ]
  },
  {
   "cell_type": "code",
   "execution_count": null,
   "id": "cfe13f2d",
   "metadata": {},
   "outputs": [],
   "source": [
    "\n",
    "# Adjust ONLY if your table uses different column names.\n",
    "CANONICAL_BASE_SQL = f'''\n",
    "WITH canonical_flights AS (\n",
    "  SELECT\n",
    "    CAST(COALESCE(flight_date, date) AS DATE) AS flight_date,\n",
    "    CAST(dep_delay AS FLOAT64) AS dep_delay,\n",
    "    CAST(distance  AS FLOAT64) AS distance,\n",
    "    CAST(carrier   AS STRING)  AS carrier,\n",
    "    CAST(origin    AS STRING)  AS origin,\n",
    "    CAST(COALESCE(dest, destination) AS STRING) AS dest,\n",
    "    CAST((CASE WHEN SAFE_CAST(diverted AS INT64)=1 OR LOWER(CAST(diverted AS STRING))='true' THEN TRUE ELSE FALSE END) AS BOOL) AS diverted\n",
    "  FROM `{TABLE_PATH}`\n",
    "  WHERE dep_delay IS NOT NULL\n",
    ")\n",
    "'''\n",
    "print(CANONICAL_BASE_SQL[:600] + \"\\n...\")\n"
   ]
  },
  {
   "cell_type": "markdown",
   "id": "3310fef4",
   "metadata": {},
   "source": [
    "### 2) Split (80/20)"
   ]
  },
  {
   "cell_type": "code",
   "execution_count": null,
   "id": "9e0b30dd",
   "metadata": {},
   "outputs": [],
   "source": [
    "\n",
    "SPLIT_CLAUSE = r'''\n",
    ", split AS (\n",
    "  SELECT cf.*,\n",
    "         CASE WHEN RAND(12345) < 0.8 THEN 'TRAIN' ELSE 'EVAL' END AS split\n",
    "  FROM canonical_flights cf\n",
    ")\n",
    "'''\n",
    "print(SPLIT_CLAUSE)\n"
   ]
  },
  {
   "cell_type": "markdown",
   "id": "25c00049",
   "metadata": {},
   "source": [
    "\n",
    "## 3) Baseline model — LOGISTIC_REG (`diverted`)\n",
    "Use **only** a small set of signals for the baseline (keep it honest).\n"
   ]
  },
  {
   "cell_type": "code",
   "execution_count": null,
   "id": "bac26b12",
   "metadata": {},
   "outputs": [],
   "source": [
    "\n",
    "MODEL_BASE = f\"{PROJECT_ID}.unit2_flights.clf_diverted_base\"\n",
    "\n",
    "sql_baseline = f'''\n",
    "{CANONICAL_BASE_SQL}\n",
    "{SPLIT_CLAUSE}\n",
    "\n",
    "CREATE SCHEMA IF NOT EXISTS `{PROJECT_ID}.unit2_flights`;\n",
    "\n",
    "CREATE OR REPLACE MODEL `{MODEL_BASE}`\n",
    "OPTIONS (MODEL_TYPE='LOGISTIC_REG', INPUT_LABEL_COLS=['diverted']) AS\n",
    "SELECT\n",
    "  diverted,\n",
    "  dep_delay, distance, carrier, origin, dest,\n",
    "  EXTRACT(DAYOFWEEK FROM flight_date) AS day_of_week\n",
    "FROM split\n",
    "WHERE split='TRAIN'\n",
    ";\n",
    "\n",
    "SELECT * FROM ML.EVALUATE(\n",
    "  MODEL `{MODEL_BASE}`,\n",
    "  (SELECT\n",
    "     diverted,\n",
    "     dep_delay, distance, carrier, origin, dest,\n",
    "     EXTRACT(DAYOFWEEK FROM flight_date) AS day_of_week\n",
    "   FROM split WHERE split='EVAL')\n",
    ");\n",
    "'''\n",
    "job = bq.query(sql_baseline); _ = job.result()\n",
    "print(\"Baseline model trained:\", MODEL_BASE)\n"
   ]
  },
  {
   "cell_type": "markdown",
   "id": "0389aec2",
   "metadata": {},
   "source": [
    "### Confusion matrix — default 0.5 threshold"
   ]
  },
  {
   "cell_type": "code",
   "execution_count": null,
   "id": "308e3518",
   "metadata": {},
   "outputs": [],
   "source": [
    "\n",
    "cm_default_sql = f'''\n",
    "{CANONICAL_BASE_SQL}\n",
    "{SPLIT_CLAUSE}\n",
    "\n",
    "WITH scored AS (\n",
    "  SELECT\n",
    "    cf.diverted AS label,\n",
    "    p.predicted_diverted AS pred_label,\n",
    "    p.predicted_diverted_probs[OFFSET(0)].prob AS score\n",
    "  FROM split cf\n",
    "  JOIN ML.PREDICT(MODEL `{MODEL_BASE}`,\n",
    "      (SELECT dep_delay, distance, carrier, origin, dest, EXTRACT(DAYOFWEEK FROM flight_date) AS day_of_week\n",
    "       FROM split)) AS p\n",
    "  ON TRUE\n",
    "  WHERE split='EVAL'\n",
    ")\n",
    "SELECT\n",
    "  SUM(CASE WHEN label=TRUE  AND pred_label=TRUE  THEN 1 ELSE 0 END) AS TP,\n",
    "  SUM(CASE WHEN label=FALSE AND pred_label=TRUE  THEN 1 ELSE 0 END) AS FP,\n",
    "  SUM(CASE WHEN label=TRUE  AND pred_label=FALSE THEN 1 ELSE 0 END) AS FN,\n",
    "  SUM(CASE WHEN label=FALSE AND pred_label=FALSE THEN 1 ELSE 0 END) AS TN\n",
    "FROM scored;\n",
    "'''\n",
    "bq.query(cm_default_sql).result().to_dataframe()\n"
   ]
  },
  {
   "cell_type": "markdown",
   "id": "249abf6f",
   "metadata": {},
   "source": [
    "### Confusion matrix — your custom threshold"
   ]
  },
  {
   "cell_type": "code",
   "execution_count": null,
   "id": "f7e85624",
   "metadata": {},
   "outputs": [],
   "source": [
    "\n",
    "CUSTOM_THRESHOLD = 0.75  # TODO: justify in ops terms\n",
    "\n",
    "cm_thresh_sql = f'''\n",
    "{CANONICAL_BASE_SQL}\n",
    "{SPLIT_CLAUSE}\n",
    "\n",
    "WITH scored AS (\n",
    "  SELECT\n",
    "    cf.diverted AS label,\n",
    "    CAST(score >= {CUSTOM_THRESHOLD} AS BOOL) AS pred_label\n",
    "  FROM (\n",
    "    SELECT cf.*, p.predicted_diverted_probs[OFFSET(0)].prob AS score\n",
    "    FROM split cf\n",
    "    JOIN ML.PREDICT(MODEL `{MODEL_BASE}`,\n",
    "          (SELECT dep_delay, distance, carrier, origin, dest, EXTRACT(DAYOFWEEK FROM flight_date) AS day_of_week\n",
    "           FROM split)) AS p\n",
    "    ON TRUE\n",
    "    WHERE split='EVAL'\n",
    "  )\n",
    ")\n",
    "SELECT\n",
    "  SUM(CASE WHEN label=TRUE  AND pred_label=TRUE  THEN 1 ELSE 0 END) AS TP,\n",
    "  SUM(CASE WHEN label=FALSE AND pred_label=TRUE  THEN 1 ELSE 0 END) AS FP,\n",
    "  SUM(CASE WHEN label=TRUE  AND pred_label=FALSE THEN 1 ELSE 0 END) AS FN,\n",
    "  SUM(CASE WHEN label=FALSE AND pred_label=FALSE THEN 1 ELSE 0 END) AS TN\n",
    "FROM scored;\n",
    "'''\n",
    "bq.query(cm_thresh_sql).result().to_dataframe()\n"
   ]
  },
  {
   "cell_type": "markdown",
   "id": "003c38ee",
   "metadata": {},
   "source": [
    "\n",
    "## 4) Engineered model — `TRANSFORM` (same label, stricter bar)\n",
    "Create **route**, extract **day_of_week**, and **bucketize dep_delay**. Compare metrics to baseline.\n"
   ]
  },
  {
   "cell_type": "code",
   "execution_count": null,
   "id": "0cc51f09",
   "metadata": {},
   "outputs": [],
   "source": [
    "\n",
    "MODEL_XFORM = f\"{PROJECT_ID}.unit2_flights.clf_diverted_xform\"\n",
    "\n",
    "sql_xform = f'''\n",
    "{CANONICAL_BASE_SQL}\n",
    "{SPLIT_CLAUSE}\n",
    "\n",
    "CREATE OR REPLACE MODEL `{MODEL_XFORM}`\n",
    "TRANSFORM (\n",
    "  CONCAT(origin, '-', dest) AS route,\n",
    "  EXTRACT(DAYOFWEEK FROM flight_date) AS day_of_week,\n",
    "  CASE\n",
    "    WHEN dep_delay < -5  THEN 'early'\n",
    "    WHEN dep_delay <=  5 THEN 'on_time'\n",
    "    WHEN dep_delay <= 15 THEN 'minor'\n",
    "    WHEN dep_delay <= 45 THEN 'moderate'\n",
    "    ELSE 'major'\n",
    "  END AS dep_delay_bucket,\n",
    "  dep_delay, distance, carrier, origin, dest\n",
    ")\n",
    "OPTIONS (MODEL_TYPE='LOGISTIC_REG', INPUT_LABEL_COLS=['diverted']) AS\n",
    "SELECT * FROM split WHERE split='TRAIN'\n",
    ";\n",
    "\n",
    "SELECT 'baseline' AS model_version, * FROM ML.EVALUATE(\n",
    "  MODEL `{MODEL_BASE}`,\n",
    "  (SELECT\n",
    "     diverted,\n",
    "     dep_delay, distance, carrier, origin, dest,\n",
    "     EXTRACT(DAYOFWEEK FROM flight_date) AS day_of_week\n",
    "   FROM split WHERE split='EVAL')\n",
    ")\n",
    "UNION ALL\n",
    "SELECT 'engineered' AS model_version, * FROM ML.EVALUATE(\n",
    "  MODEL `{MODEL_XFORM}`,\n",
    "  (SELECT * FROM split WHERE split='EVAL')\n",
    ");\n",
    "'''\n",
    "job = bq.query(sql_xform); _ = job.result()\n",
    "print(\"Engineered model trained:\", MODEL_XFORM)\n"
   ]
  },
  {
   "cell_type": "markdown",
   "id": "e870af37",
   "metadata": {},
   "source": [
    "\n",
    "### Write-up (concise)\n",
    "- **Threshold chosen & ops rationale:** …  \n",
    "- **Baseline vs engineered — observed changes in AUC/precision/recall:** …  \n",
    "- **Risk framing:** cost of FP vs FN for diversion planning; what is your acceptable FN-rate? …\n"
   ]
  },
  {
   "cell_type": "markdown",
   "id": "ec24def5",
   "metadata": {},
   "source": [
    "\n",
    "---\n",
    "\n",
    "## Rubric (Flights, 100 pts)\n",
    "**Team-only deliverable in this notebook**\n",
    "\n",
    "- Baseline LOGISTIC_REG + evaluation (AUC + confusion @0.5) — **20**  \n",
    "- Custom threshold confusion matrix + ops justification — **20**  \n",
    "- Engineered model with `TRANSFORM` (route, DOW, delay bucket) — **20**  \n",
    "- Comparison table (baseline vs engineered) + 3–5 sentence interpretation — **20**  \n",
    "- Reproducibility: parameters clear, no hidden magic; schema mapping documented — **10**  \n",
    "- Governance notes: assumptions/limitations + slices you would monitor — **10**\n",
    "\n",
    "> **Strictness:** No screenshots; use actual results cells. Keep explanations concise (bullet points OK).\n"
   ]
  }
 ],
 "metadata": {},
 "nbformat": 4,
 "nbformat_minor": 5
}