{
 "cells": [
  {
   "cell_type": "markdown",
   "id": "32414eba",
   "metadata": {},
   "source": [
    "# Assignment 1: AI-Assisted Exploratory Data Analysis & BI Dashboard"
   ]
  },
  {
   "cell_type": "markdown",
   "id": "b1aabc0f",
   "metadata": {},
   "source": [
    "### Objective\n",
    "Use AI-assisted SQL and visualization techniques to explore the Citi Bike dataset in BigQuery, generate insights, and build a business-focused dashboard.\n",
    "\n",
    "### Scenario\n",
    "You are a team of junior data analysts tasked by NYC to analyze Citi Bike ridership patterns. Use SQL, AI assistance, and visualization to uncover insights and provide recommendations.\n",
    "\n",
    "### Tasks\n",
    "1. Project Setup (GitHub repo + README)\n",
    "2. Hypothesis Generation (AI-assisted prompts, at least 5 questions)\n",
    "3. SQL Data Exploration (CTEs, joins, window functions)\n",
    "4. Visualization (3+ Python charts, KPIs)\n",
    "5. Dashboard (Looker Studio, link in notebook)\n",
    "6. Synthesis (Summary + 2 recommendations)\n",
    "\n",
    "### Deliverables\n",
    "- Colab notebook with prompts, SQL, results, charts, and summary.\n",
    "- GitHub repo with notebook + README.\n",
    "- Dashboard link embedded in notebook.\n",
    "- Brightspace submission: text file with GitHub + dashboard links.\n",
    "\n",
    "### AI Documentation\n",
    "- Document at least 3 prompts used with Gemini for SQL and visualization.\n"
   ]
  },
  {
   "cell_type": "code",
   "execution_count": null,
   "id": "c74f8213",
   "metadata": {},
   "outputs": [],
   "source": [
    "# Start your code here\n"
   ]
  }
 ],
 "metadata": {},
 "nbformat": 4,
 "nbformat_minor": 5
}
